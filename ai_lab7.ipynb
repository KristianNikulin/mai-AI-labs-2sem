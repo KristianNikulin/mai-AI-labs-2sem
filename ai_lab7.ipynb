{
 "cells": [
  {
   "cell_type": "markdown",
   "id": "207c27d0-0701-459e-911b-89636e6873aa",
   "metadata": {
    "id": "207c27d0-0701-459e-911b-89636e6873aa"
   },
   "source": [
    "# Лабораторная работа №7 (Проведение исследований моделями семантической сегментации)"
   ]
  },
  {
   "cell_type": "markdown",
   "id": "a8881ef8-c334-436f-80ca-a5fe63053224",
   "metadata": {
    "id": "a8881ef8-c334-436f-80ca-a5fe63053224"
   },
   "source": [
    "## 1. Выбор начальных условий\n",
    "\n",
    "### a. Выбор набора данных и обоснование\n",
    "В рамках данной лабораторной работы выбран набор данных из Kaggle — \"The Oxford-IIIT Pet Dataset\", который предназначен для задачи классификации и семантической сегментации изображений домашних животных, таких как собаки и кошки. Это набор данных включает в себя изображения различных пород собак и кошек, а также аннотации для сегментации. Данный набор данных подходит для задач классификации и сегментации, потому что:\n",
    "\n",
    "- Практическое применение: Этот набор данных может быть полезен для реальных задач в области идентификации и классификации животных на изображениях, что может быть полезно в зоологической области, а также для создания приложений, ориентированных на автоматическое распознавание домашних питомцев.\n",
    "\n",
    "- Часто используется в исследованиях: Набор данных активно используется в академических и практических исследованиях в области компьютерного зрения, что обеспечивает доступ к множеству литературы и методов для дальнейшего улучшения результатов.\n",
    "\n",
    "### b. Выбор метрик качества и обоснование\n",
    "Для задачи семантической сегментации следует выбрать следующие метрики качества:\n",
    "\n",
    "- IoU (Intersection over Union):\n",
    "\n",
    "Описание: IoU измеряет пересечение между предсказанным и истинным (ground truth) сегментом. Это одна из самых распространенных метрик для задач сегментации, так как она наглядно показывает, насколько хорошо модель предсказывает сегменты объектов.\n",
    "\n",
    "Обоснование выбора: Для семантической сегментации важен не только процент правильно предсказанных пикселей, но и точность, с которой модель разделяет различные объекты на изображении. IoU позволяет учесть эти аспекты, а также помогает избежать ситуаций, когда модель просто предсказывает много ненужных пикселей.\n",
    "\n",
    "- Pixel Accuracy (Точность пикселей):\n",
    "\n",
    "Описание: Эта метрика оценивает долю правильно классифицированных пикселей относительно всех пикселей на изображении. Для задачи классификации это полезная метрика, так как она показывает, насколько точно модель может классифицировать пиксели как принадлежащие определенному классу.\n",
    "\n",
    "Обоснование выбора: Хотя эта метрика не учитывает взаимодействие между классами, она является важным индикатором того, насколько хорошо модель обрабатывает изображение в целом."
   ]
  },
  {
   "cell_type": "markdown",
   "id": "e2c179d6-3346-4c5a-94f8-1977bb53cbde",
   "metadata": {
    "id": "e2c179d6-3346-4c5a-94f8-1977bb53cbde"
   },
   "source": [
    "## 2. Создание бейзлайна и оценка качества\n",
    "\n",
    "### a. Обучить модель"
   ]
  },
  {
   "cell_type": "code",
   "execution_count": 1,
   "id": "bac6f2de-84d3-450c-bda4-a2d2f6e977d7",
   "metadata": {
    "colab": {
     "base_uri": "https://localhost:8080/"
    },
    "id": "bac6f2de-84d3-450c-bda4-a2d2f6e977d7",
    "outputId": "abe9929e-7450-4ba7-de9f-ed08aed98658"
   },
   "outputs": [
    {
     "name": "stdout",
     "output_type": "stream",
     "text": [
      "Используемое устройство: cuda\n"
     ]
    }
   ],
   "source": [
    "import torch\n",
    "import segmentation_models_pytorch as smp\n",
    "import albumentations as A\n",
    "from albumentations.pytorch import ToTensorV2\n",
    "from torch.utils.data import Dataset, DataLoader\n",
    "from PIL import Image\n",
    "import numpy as np\n",
    "import os\n",
    "from tqdm import tqdm\n",
    "\n",
    "device = torch.device(\"cuda\" if torch.cuda.is_available() else \"cpu\")\n",
    "print(\"Используемое устройство:\", device)\n"
   ]
  },
  {
   "cell_type": "code",
   "execution_count": 6,
   "id": "vcUKb-4hPbBq",
   "metadata": {
    "id": "vcUKb-4hPbBq"
   },
   "outputs": [],
   "source": [
    "DATA_DIR = \"oxford-iiit-pet\"\n",
    "\n",
    "# Пример структуры:\n",
    "# - images/\n",
    "# - annotations/trimaps/\n",
    "# где trimaps — это маски (1 = животное, 2 = граница, 3 = фон)\n",
    "\n",
    "class PetDataset(Dataset):\n",
    "    def __init__(self, images_dir, masks_dir, transform=None):\n",
    "        self.images_dir = images_dir\n",
    "        self.masks_dir = masks_dir\n",
    "        self.transform = transform\n",
    "        self.filenames = [f[:-4] for f in os.listdir(images_dir) if f.endswith(\".jpg\")]\n",
    "\n",
    "    def __len__(self):\n",
    "        return len(self.filenames)\n",
    "\n",
    "    def __getitem__(self, idx):\n",
    "        name = self.filenames[idx]\n",
    "        img = np.array(Image.open(os.path.join(self.images_dir, name + \".jpg\")).convert(\"RGB\"))\n",
    "        mask = np.array(Image.open(os.path.join(self.masks_dir, name + \".png\")))\n",
    "\n",
    "        # Маска: фон=0, животное=1\n",
    "        mask = (mask == 1).astype(\"float32\")\n",
    "\n",
    "        if self.transform:\n",
    "            augmented = self.transform(image=img, mask=mask)\n",
    "            img = augmented[\"image\"]\n",
    "            mask = augmented[\"mask\"].unsqueeze(0)\n",
    "\n",
    "        return img, mask\n",
    "\n",
    "transform = A.Compose([\n",
    "    A.Resize(256, 256),\n",
    "    A.Normalize(),\n",
    "    ToTensorV2()\n",
    "])\n",
    "\n",
    "train_dataset = PetDataset(\n",
    "    images_dir=os.path.join(DATA_DIR, \"images\"),\n",
    "    masks_dir=os.path.join(DATA_DIR, \"annotations\", \"trimaps\"),\n",
    "    transform=transform\n",
    ")\n",
    "\n",
    "train_loader = DataLoader(train_dataset, batch_size=8, shuffle=True)\n"
   ]
  },
  {
   "cell_type": "code",
   "execution_count": 7,
   "id": "7lwJ6okNRG8H",
   "metadata": {
    "id": "7lwJ6okNRG8H"
   },
   "outputs": [],
   "source": [
    "def train_one_epoch(model, loader, loss_fn, optimizer):\n",
    "    model.train()\n",
    "    total_loss = 0\n",
    "    for images, masks in tqdm(loader):\n",
    "        images, masks = images.to(device), masks.to(device)\n",
    "\n",
    "        optimizer.zero_grad()\n",
    "        outputs = model(images)\n",
    "        loss = loss_fn(outputs, masks)\n",
    "        loss.backward()\n",
    "        optimizer.step()\n",
    "        total_loss += loss.item()\n",
    "    return total_loss / len(loader)\n",
    "\n",
    "def iou_score(preds, targets, threshold=0.5):\n",
    "    preds = (preds > threshold).float()\n",
    "    intersection = (preds * targets).sum((1, 2, 3))\n",
    "    union = ((preds + targets) >= 1).float().sum((1, 2, 3))\n",
    "    iou = (intersection + 1e-6) / (union + 1e-6)\n",
    "    return iou.mean().item()\n",
    "\n",
    "def evaluate(model, loader):\n",
    "    model.eval()\n",
    "    ious, accs = [], []\n",
    "    with torch.no_grad():\n",
    "        for images, masks in loader:\n",
    "            images, masks = images.to(device), masks.to(device)\n",
    "            outputs = model(images)\n",
    "            preds = torch.sigmoid(outputs)\n",
    "            ious.append(iou_score(preds, masks))\n",
    "\n",
    "            correct = ((preds > 0.5) == masks).float().mean().item()\n",
    "            accs.append(correct)\n",
    "    return np.mean(ious), np.mean(accs)\n"
   ]
  },
  {
   "cell_type": "code",
   "execution_count": 8,
   "id": "TSoo2TxUON7o",
   "metadata": {
    "colab": {
     "base_uri": "https://localhost:8080/",
     "height": 267,
     "referenced_widgets": [
      "777827f1e5a94d6aa84db904e1ba8118",
      "da4218dce68540288b76c6518e874303",
      "f2b80c6056fd4c34b8eabbeb9ccaeace",
      "298598b4435b4ae4a6b608859dcf022a",
      "517ceae0def341d39f43f4222ef9ff7b",
      "29863f98c47644f1ad9ce2f471797ea7",
      "3e3ae33c1f634f119bffd46ea0f2f460",
      "3e03b97033a34826805be6ed12cccb84",
      "a689b49a2e3242db8065e43dcd00bb75",
      "c5f456359aac40249b2b18675c6b9861",
      "95e485b62b184bf195bcef1e3fc995b2",
      "1bf4e3a2ad594c7d815c2266cabba88a",
      "a556329e98b748928109e2004b50d22d",
      "23b1ed2a148c4ed999c5411450658774",
      "6c4d76ca1c684dacabc3a2538e2c7a28",
      "66fe72bcf9e3404d9190f24dadf02fd9",
      "8dbc2428c9f14be2b84e99590406fcd5",
      "12c2006933c8414885544eda72c885ae",
      "a3e6ceb9a728457e92888968e20c023d",
      "053e3f8aba734c68bec0be82dfca3b89",
      "0c054dfc4ad94666803bad3bdba8dc2e",
      "abd120f3318c48f1917d2f90daa3bb87"
     ]
    },
    "id": "TSoo2TxUON7o",
    "outputId": "3f0c499c-fc42-49ed-cfb3-57c45ce9a101"
   },
   "outputs": [
    {
     "name": "stderr",
     "output_type": "stream",
     "text": [
      "/usr/local/lib/python3.11/dist-packages/huggingface_hub/utils/_auth.py:94: UserWarning: \n",
      "The secret `HF_TOKEN` does not exist in your Colab secrets.\n",
      "To authenticate with the Hugging Face Hub, create a token in your settings tab (https://huggingface.co/settings/tokens), set it as secret in your Google Colab and restart your session.\n",
      "You will be able to reuse this secret in all of your notebooks.\n",
      "Please note that authentication is recommended but still optional to access public models or datasets.\n",
      "  warnings.warn(\n"
     ]
    },
    {
     "data": {
      "application/vnd.jupyter.widget-view+json": {
       "model_id": "777827f1e5a94d6aa84db904e1ba8118",
       "version_major": 2,
       "version_minor": 0
      },
      "text/plain": [
       "config.json:   0%|          | 0.00/156 [00:00<?, ?B/s]"
      ]
     },
     "metadata": {},
     "output_type": "display_data"
    },
    {
     "data": {
      "application/vnd.jupyter.widget-view+json": {
       "model_id": "1bf4e3a2ad594c7d815c2266cabba88a",
       "version_major": 2,
       "version_minor": 0
      },
      "text/plain": [
       "model.safetensors:   0%|          | 0.00/87.3M [00:00<?, ?B/s]"
      ]
     },
     "metadata": {},
     "output_type": "display_data"
    },
    {
     "name": "stdout",
     "output_type": "stream",
     "text": [
      "▶️ Обучение CNN модели:\n"
     ]
    },
    {
     "name": "stderr",
     "output_type": "stream",
     "text": [
      "100%|██████████| 924/924 [02:36<00:00,  5.91it/s]\n"
     ]
    },
    {
     "name": "stdout",
     "output_type": "stream",
     "text": [
      "UNet-ResNet34 — IoU: 0.7492, Accuracy: 0.9154\n"
     ]
    }
   ],
   "source": [
    "model_cnn = smp.Unet(\n",
    "    encoder_name=\"resnet34\",\n",
    "    encoder_weights=\"imagenet\",\n",
    "    in_channels=3,\n",
    "    classes=1\n",
    ").to(device)\n",
    "\n",
    "loss_fn = smp.losses.DiceLoss(mode=\"binary\")\n",
    "optimizer = torch.optim.Adam(model_cnn.parameters(), lr=1e-3)\n",
    "\n",
    "print(\"▶️ Обучение CNN модели:\")\n",
    "train_one_epoch(model_cnn, train_loader, loss_fn, optimizer)\n",
    "iou, acc = evaluate(model_cnn, train_loader)\n",
    "print(f\"UNet-ResNet34 — IoU: {iou:.4f}, Accuracy: {acc:.4f}\")\n"
   ]
  },
  {
   "cell_type": "code",
   "execution_count": 10,
   "id": "Ed8vMB9mRKZh",
   "metadata": {
    "colab": {
     "base_uri": "https://localhost:8080/",
     "height": 136,
     "referenced_widgets": [
      "0c207ab64953477b8a50d782bfa5556f",
      "550b325efbf944e3a381e6e1ea556b47",
      "67b49dbca9ce4d7a94233ba4b05ce6ed",
      "2b380162c8fe44b1938f8900a7abe1d9",
      "543a4b56b0164cb0b5e08cb1d4183b7b",
      "15003b65df8d42f5af45642526ff205c",
      "0ec2d747e6bc4b3a81ba996fea21641b",
      "8acddb613c934920a9e9bee6ad70fb95",
      "6333755e69b04ca3afb31a7025643446",
      "58f208cd581b4bf78c1f5dee077f9122",
      "e92cf6868fc64775933497f1b75fc2e8",
      "3f141825368e45498d581c1ea95d932c",
      "314dbf016d9149c8bc4d91eddd4c8083",
      "8c2af2dcf4164216a27b72e7fd4b7b2f",
      "1ad0f5c26cf44d0a9caf1f2c3977685a",
      "410de83aee354b009d27d63cdb09dbad",
      "3911efbdf92941f6b4ab912df074aec2",
      "331e708afe664b63b66fecb146b17e7e",
      "a220f41ce6474567bd526dafa4be8280",
      "33af53dd3e7f4500a7548126137eb9cc",
      "d0016e44cf0f45f5be21509590bb3734",
      "cda6a779c9104109bcfa9f3f8efd2a88"
     ]
    },
    "id": "Ed8vMB9mRKZh",
    "outputId": "b61186bc-443a-441a-ff7f-d3a6ed98a499"
   },
   "outputs": [
    {
     "data": {
      "application/vnd.jupyter.widget-view+json": {
       "model_id": "0c207ab64953477b8a50d782bfa5556f",
       "version_major": 2,
       "version_minor": 0
      },
      "text/plain": [
       "config.json:   0%|          | 0.00/135 [00:00<?, ?B/s]"
      ]
     },
     "metadata": {},
     "output_type": "display_data"
    },
    {
     "data": {
      "application/vnd.jupyter.widget-view+json": {
       "model_id": "3f141825368e45498d581c1ea95d932c",
       "version_major": 2,
       "version_minor": 0
      },
      "text/plain": [
       "model.safetensors:   0%|          | 0.00/14.3M [00:00<?, ?B/s]"
      ]
     },
     "metadata": {},
     "output_type": "display_data"
    },
    {
     "name": "stdout",
     "output_type": "stream",
     "text": [
      "▶️ Обучение Transformer модели:\n"
     ]
    },
    {
     "name": "stderr",
     "output_type": "stream",
     "text": [
      "100%|██████████| 924/924 [02:05<00:00,  7.39it/s]\n"
     ]
    },
    {
     "name": "stdout",
     "output_type": "stream",
     "text": [
      "UNet-Transformer — IoU: 0.6991, Accuracy: 0.8793\n"
     ]
    }
   ],
   "source": [
    "model_transformer = smp.Unet(\n",
    "    encoder_name=\"mit_b0\",\n",
    "    encoder_weights=\"imagenet\",\n",
    "    in_channels=3,\n",
    "    classes=1\n",
    ").to(device)\n",
    "\n",
    "optimizer = torch.optim.Adam(model_transformer.parameters(), lr=1e-3)\n",
    "\n",
    "print(\"▶️ Обучение Transformer модели:\")\n",
    "train_one_epoch(model_transformer, train_loader, loss_fn, optimizer)\n",
    "iou, acc = evaluate(model_transformer, train_loader)\n",
    "print(f\"UNet-Transformer — IoU: {iou:.4f}, Accuracy: {acc:.4f}\")\n"
   ]
  },
  {
   "cell_type": "markdown",
   "id": "r44XSoz9RgyI",
   "metadata": {
    "id": "r44XSoz9RgyI"
   },
   "source": [
    "### b.\tОценить качество моделей по выбранным метрикам\n",
    "\n",
    "В рамках эксперимента были обучены две модели семантической сегментации на основе библиотеки segmentation_models.pytorch:\n",
    "\n",
    "1. Сверточная модель — Unet с энкодером ResNet34\n",
    "\n",
    "2. Трансформерная модель — Unet с энкодером mit_b0 (из SegFormer)\n",
    "\n",
    "Обучение каждой модели проводилось в течение одной эпохи, в целях быстрого сравнения.\n",
    "\n",
    "#### Результаты оценки на тренировочном наборе:\n",
    "\n",
    "- UNet-ResNet34:\n",
    "\n",
    "  - IoU: 0.7492\n",
    "\n",
    "  - Accuracy: 0.9154\n",
    "\n",
    "- UNet-mit_b0 (Transformer):\n",
    "\n",
    "  - IoU: 0.6991\n",
    "\n",
    "  - Accuracy: 0.8793\n",
    "\n",
    "#### Вывод\n",
    "\n",
    "Сверточная модель показала более высокие результаты как по метрике пересечения по объединению (IoU), так и по точности (Accuracy). Однако трансформерная модель также продемонстрировала достойные результаты, несмотря на свою архитектурную сложность и отсутствие глубокой настройки."
   ]
  },
  {
   "cell_type": "markdown",
   "id": "w7nT_jykTh0U",
   "metadata": {
    "id": "w7nT_jykTh0U"
   },
   "source": [
    "## 3. Улучшение бейзлайна\n",
    "\n",
    "### a. Сформулировать гипотезы\n",
    "\n",
    "Для улучшения качества моделей были выдвинуты следующие гипотезы:\n",
    "\n",
    "1. Аугментации данных помогут улучшить обобщающую способность модели:\n",
    "\n",
    "Применение случайных поворотов, горизонтального отражения, изменения яркости и контрастности.\n",
    "\n",
    "2. Подбор более мощной архитектуры:\n",
    "\n",
    "Использование более сложного энкодера, например mit_b4 вместо mit_b0 (для трансформера).\n",
    "\n",
    "3. Подбор гиперпараметров:\n",
    "\n",
    "Изменение функции потерь с DiceLoss на комбинацию DiceLoss + BCEWithLogitsLoss, которая может лучше справляться с несбалансированными масками.\n",
    "\n",
    "4. Использование циклического scheduler'а:\n",
    "\n",
    "Применение CosineAnnealingLR для управления learning rate."
   ]
  },
  {
   "cell_type": "markdown",
   "id": "CTcfinl7XSyZ",
   "metadata": {
    "id": "CTcfinl7XSyZ"
   },
   "source": [
    "### b. Проверка гипотез\n",
    "\n",
    "#### 1. Добавление аугментаций данных\n",
    "\n",
    "Мы будем использовать библиотеку albumentations для применения различных аугментаций, таких как случайные повороты, отражения, изменение яркости и контрастности."
   ]
  },
  {
   "cell_type": "code",
   "execution_count": 11,
   "id": "YbVdmZVvRlvo",
   "metadata": {
    "id": "YbVdmZVvRlvo"
   },
   "outputs": [],
   "source": [
    "import albumentations as A\n",
    "from albumentations.pytorch import ToTensorV2\n",
    "\n",
    "# Аугментации\n",
    "transform = A.Compose([\n",
    "    A.Resize(256, 256),  # изменение размера\n",
    "    A.HorizontalFlip(p=0.5),  # случайное горизонтальное отражение\n",
    "    A.RandomBrightnessContrast(p=0.2),  # случайное изменение яркости и контрастности\n",
    "    A.Rotate(limit=15, p=0.5),  # случайный поворот в пределах 15 градусов\n",
    "    A.Normalize(),  # нормализация\n",
    "    ToTensorV2()  # конвертация в тензор\n",
    "])\n",
    "\n",
    "# Применение аугментаций к набору данных\n",
    "train_dataset = PetDataset(\n",
    "    images_dir=os.path.join(DATA_DIR, \"images\"),\n",
    "    masks_dir=os.path.join(DATA_DIR, \"annotations\", \"trimaps\"),\n",
    "    transform=transform\n",
    ")\n",
    "\n",
    "train_loader = DataLoader(train_dataset, batch_size=8, shuffle=True)\n"
   ]
  },
  {
   "cell_type": "markdown",
   "id": "AcBhRxpqXgxJ",
   "metadata": {
    "id": "AcBhRxpqXgxJ"
   },
   "source": [
    "#### 2. Изменение функции потерь\n",
    "\n",
    "Мы используем комбинированную функцию потерь — DiceLoss + BCEWithLogitsLoss."
   ]
  },
  {
   "cell_type": "code",
   "execution_count": 12,
   "id": "TEacTvc-XjdW",
   "metadata": {
    "id": "TEacTvc-XjdW"
   },
   "outputs": [],
   "source": [
    "import torch\n",
    "import segmentation_models_pytorch as smp\n",
    "\n",
    "# Функция потерь: DiceLoss + BCEWithLogitsLoss\n",
    "bce = torch.nn.BCEWithLogitsLoss()\n",
    "dice = smp.losses.DiceLoss(mode=\"binary\")\n",
    "\n",
    "def combined_loss(pred, target):\n",
    "    return bce(pred, target) + dice(pred, target)\n",
    "\n",
    "# Пример использования функции потерь:\n",
    "loss_fn = combined_loss\n"
   ]
  },
  {
   "cell_type": "markdown",
   "id": "qPAnVKHXXqsX",
   "metadata": {
    "id": "qPAnVKHXXqsX"
   },
   "source": [
    "### c. Сформированный улучшенный бейзлайн\n",
    "\n",
    "Мы меняем энкодер на более сложный mit_b4 для трансформерной модели и применяем улучшенные аугментации и функцию потерь.\n",
    "\n",
    "#### Модель для улучшенного бейзлайна:"
   ]
  },
  {
   "cell_type": "code",
   "execution_count": 13,
   "id": "yaNhf0UXXvUT",
   "metadata": {
    "colab": {
     "base_uri": "https://localhost:8080/",
     "height": 81,
     "referenced_widgets": [
      "1c893376d988433cb5a69fca3ed7cda8",
      "405d636ed8ed42f1a48629fdd2e6d89c",
      "1471d9e752514951bb6c2bb9c59abb98",
      "1f024d6204d746b28b3c0fcc8ec88c93",
      "0d4f479d2b50456fbf3997c6329cd508",
      "eedaf73a8669406480f3c33676046721",
      "a8b037782f5740bd8eb6f191cd0a9b83",
      "544c412079484569be09e6fe401a3fe3",
      "b98919f45a2644c5b1eb6e6033a727f6",
      "c747ef3585c0417f8c9e94c23add8219",
      "9b07eff284864d36863e8ceb2f55cc6a",
      "ccd3ab8d2d1f44808d7fa1edb24ea33e",
      "3cdff056f1e34d72babda84595733709",
      "1242cc45275347da8a470627467d8b3c",
      "56dd009e4e6344dbb0ba05b31c13c13d",
      "a17a8804dcdf4e93ac57c901c646e425",
      "066f36fc4fcc48c4b8901f3fd014800c",
      "b418b1674fd544618ef0ad80def4c37f",
      "8e5519725ef846518b10d10d9516735b",
      "5f2bc7d5839e4af483508992a56238f6",
      "58de7038e9b142d89decc1298f5734c8",
      "3e7c56aa82ce4bfebddc6ee4b8544d09"
     ]
    },
    "id": "yaNhf0UXXvUT",
    "outputId": "1992123c-fc57-479b-aeb9-4dd14cebcdc2"
   },
   "outputs": [
    {
     "data": {
      "application/vnd.jupyter.widget-view+json": {
       "model_id": "1c893376d988433cb5a69fca3ed7cda8",
       "version_major": 2,
       "version_minor": 0
      },
      "text/plain": [
       "config.json:   0%|          | 0.00/135 [00:00<?, ?B/s]"
      ]
     },
     "metadata": {},
     "output_type": "display_data"
    },
    {
     "data": {
      "application/vnd.jupyter.widget-view+json": {
       "model_id": "ccd3ab8d2d1f44808d7fa1edb24ea33e",
       "version_major": 2,
       "version_minor": 0
      },
      "text/plain": [
       "model.safetensors:   0%|          | 0.00/246M [00:00<?, ?B/s]"
      ]
     },
     "metadata": {},
     "output_type": "display_data"
    }
   ],
   "source": [
    "# Модель с улучшенным энкодером (mit_b4) для трансформера\n",
    "model_transformer = smp.Unet(\n",
    "    encoder_name=\"mit_b4\",  # используем более сложный трансформерный энкодер\n",
    "    encoder_weights=\"imagenet\",\n",
    "    in_channels=3,\n",
    "    classes=1\n",
    ").to(device)\n",
    "\n",
    "# Модель для UNet с ResNet34 (без изменений)\n",
    "model_cnn = smp.Unet(\n",
    "    encoder_name=\"resnet34\",\n",
    "    encoder_weights=\"imagenet\",\n",
    "    in_channels=3,\n",
    "    classes=1\n",
    ").to(device)\n"
   ]
  },
  {
   "cell_type": "markdown",
   "id": "hZ4YIqFgXxfs",
   "metadata": {
    "id": "hZ4YIqFgXxfs"
   },
   "source": [
    "### d. Обучение моделей с улучшенным бейзлайном\n",
    "\n",
    "Теперь обучим модели с улучшениями: добавим аугментации, комбинированную функцию потерь и обучим модели на 1 эпохе.\n",
    "\n",
    "#### Обучение модели с улучшенным бейзлайном (CNN и Transformer):"
   ]
  },
  {
   "cell_type": "code",
   "execution_count": 14,
   "id": "YhPiu7ayX3r4",
   "metadata": {
    "colab": {
     "base_uri": "https://localhost:8080/"
    },
    "id": "YhPiu7ayX3r4",
    "outputId": "b82e52e6-9c04-44b9-d3ab-66fcefd212d5"
   },
   "outputs": [
    {
     "metadata": {
      "tags": null
     },
     "name": "stdout",
     "output_type": "stream",
     "text": [
      "▶️ Обучение CNN модели:\n"
     ]
    },
    {
     "metadata": {
      "tags": null
     },
     "name": "stderr",
     "output_type": "stream",
     "text": [
      "100%|██████████| 924/924 [02:31<00:00,  6.10it/s]\n"
     ]
    },
    {
     "metadata": {
      "tags": null
     },
     "name": "stdout",
     "output_type": "stream",
     "text": [
      "UNet-ResNet34 (улучшенный) — IoU: 0.7611, Accuracy: 0.9173\n",
      "▶️ Обучение Transformer модели:\n"
     ]
    },
    {
     "metadata": {
      "tags": null
     },
     "name": "stderr",
     "output_type": "stream",
     "text": [
      "100%|██████████| 924/924 [07:23<00:00,  2.09it/s]\n"
     ]
    },
    {
     "name": "stdout",
     "output_type": "stream",
     "text": [
      "UNet-Transformer (mit_b4, улучшенный) — IoU: 0.8043, Accuracy: 0.9406\n"
     ]
    }
   ],
   "source": [
    "# Оптимизатор для обеих моделей\n",
    "optimizer_cnn = torch.optim.Adam(model_cnn.parameters(), lr=1e-3)\n",
    "optimizer_transformer = torch.optim.Adam(model_transformer.parameters(), lr=1e-3)\n",
    "\n",
    "# Обучение CNN модели (ResNet34)\n",
    "print(\"▶️ Обучение CNN модели:\")\n",
    "train_one_epoch(model_cnn, train_loader, loss_fn, optimizer_cnn)\n",
    "\n",
    "# Оценка CNN модели\n",
    "iou_cnn, acc_cnn = evaluate(model_cnn, train_loader)\n",
    "print(f\"UNet-ResNet34 (улучшенный) — IoU: {iou_cnn:.4f}, Accuracy: {acc_cnn:.4f}\")\n",
    "\n",
    "# Обучение Transformer модели (mit_b4)\n",
    "print(\"▶️ Обучение Transformer модели:\")\n",
    "train_one_epoch(model_transformer, train_loader, loss_fn, optimizer_transformer)\n",
    "\n",
    "# Оценка Transformer модели\n",
    "iou_transformer, acc_transformer = evaluate(model_transformer, train_loader)\n",
    "print(f\"UNet-Transformer (mit_b4, улучшенный) — IoU: {iou_transformer:.4f}, Accuracy: {acc_transformer:.4f}\")\n"
   ]
  },
  {
   "cell_type": "markdown",
   "id": "70dpFc3kcWza",
   "metadata": {
    "id": "70dpFc3kcWza"
   },
   "source": [
    "### f. Сравнение результатов моделей с улучшенным бейзлайном в сравнении с результатами из пункта 2\n",
    "После внесения улучшений в базовые модели были достигнуты следующие результаты:\n",
    "\n",
    "- UNet-ResNet34:\n",
    "\n",
    "  - Было: IoU = 0.7492, Accuracy = 0.9154\n",
    "\n",
    "  - Стало: IoU = 0.7611, Accuracy = 0.9173\n",
    "\n",
    "- UNet-Transformer (mit_b0 → mit_b4):\n",
    "\n",
    "  - Было: IoU = 0.6991, Accuracy = 0.8793\n",
    "\n",
    "  - Стало: IoU = 0.8043, Accuracy = 0.9406\n",
    "\n",
    "#### Вывод по сравнению:\n",
    "\n",
    "Улучшения дали положительный эффект для обеих моделей.\n",
    "\n",
    "Особенно заметный прирост качества показала трансформерная модель: прирост IoU более чем на 10%, точности — на 6%.\n",
    "\n",
    "Несмотря на то, что изначально сверточная модель имела преимущество, улучшенный трансформер (mit_b4) впервые превзошёл её по всем метрикам.\n",
    "\n",
    "### g. Выводы\n",
    "1. Улучшение аугментаций, использование более мощных энкодеров и комбинированной функции потерь дали значительный прирост качества моделей.\n",
    "\n",
    "2. Улучшенная трансформерная модель на mit_b4 показала наилучшие результаты среди всех протестированных:\n",
    "\n",
    "- IoU = 0.8043, Accuracy = 0.9406\n",
    "\n",
    "3. Даже при обучении всего за одну эпоху, грамотная настройка бейзлайна может заметно улучшить итоговое качество.\n",
    "\n",
    "4. Результаты подтверждают гипотезу о том, что трансформерные модели в задачах сегментации могут конкурировать и превосходить классические сверточные при правильной настройке."
   ]
  },
  {
   "cell_type": "markdown",
   "id": "2_xAv-cVdCUR",
   "metadata": {
    "id": "2_xAv-cVdCUR"
   },
   "source": [
    "## 4. Имплементация алгоритма машинного обучения\n",
    "\n",
    "### a. Самостоятельная имплементация модели машинного обучения\n",
    "\n",
    "Была реализована простая модель на основе двухслойной сверточной нейронной сети (CNN) с ReLU и Sigmoid активацией. Это базовая модель, созданная вручную без использования segmentation_models.pytorch."
   ]
  },
  {
   "cell_type": "code",
   "execution_count": 15,
   "id": "HqyZkWr6dbKF",
   "metadata": {
    "id": "HqyZkWr6dbKF"
   },
   "outputs": [],
   "source": [
    "import torch.nn as nn\n",
    "\n",
    "class SimpleSegmentationModel(nn.Module):\n",
    "    def __init__(self):\n",
    "        super(SimpleSegmentationModel, self).__init__()\n",
    "        self.encoder = nn.Sequential(\n",
    "            nn.Conv2d(3, 16, kernel_size=3, padding=1),\n",
    "            nn.ReLU(),\n",
    "            nn.MaxPool2d(2),\n",
    "            nn.Conv2d(16, 32, kernel_size=3, padding=1),\n",
    "            nn.ReLU(),\n",
    "            nn.MaxPool2d(2)\n",
    "        )\n",
    "        self.decoder = nn.Sequential(\n",
    "            nn.ConvTranspose2d(32, 16, kernel_size=2, stride=2),\n",
    "            nn.ReLU(),\n",
    "            nn.ConvTranspose2d(16, 1, kernel_size=2, stride=2),\n",
    "            nn.Sigmoid()\n",
    "        )\n",
    "\n",
    "    def forward(self, x):\n",
    "        x = self.encoder(x)\n",
    "        x = self.decoder(x)\n",
    "        return x\n"
   ]
  },
  {
   "cell_type": "markdown",
   "id": "0_L280qWdee6",
   "metadata": {
    "id": "0_L280qWdee6"
   },
   "source": [
    "### b. Обучение имплементированной модели"
   ]
  },
  {
   "cell_type": "code",
   "execution_count": 16,
   "id": "lx3fUn32dg_h",
   "metadata": {
    "colab": {
     "base_uri": "https://localhost:8080/"
    },
    "id": "lx3fUn32dg_h",
    "outputId": "f3a60365-da5d-4708-df34-3c70e7cf1be3"
   },
   "outputs": [
    {
     "name": "stdout",
     "output_type": "stream",
     "text": [
      "▶️ Обучение простой модели:\n"
     ]
    },
    {
     "name": "stderr",
     "output_type": "stream",
     "text": [
      "100%|██████████| 924/924 [01:01<00:00, 14.91it/s]\n"
     ]
    },
    {
     "data": {
      "text/plain": [
       "1.3249270749556554"
      ]
     },
     "execution_count": 16,
     "metadata": {},
     "output_type": "execute_result"
    }
   ],
   "source": [
    "simple_model = SimpleSegmentationModel().to(device)\n",
    "optimizer_simple = torch.optim.Adam(simple_model.parameters(), lr=1e-3)\n",
    "loss_fn_simple = combined_loss  # использована та же функция из пункта 3c\n",
    "\n",
    "print(\"▶️ Обучение простой модели:\")\n",
    "train_one_epoch(simple_model, train_loader, loss_fn_simple, optimizer_simple)\n"
   ]
  },
  {
   "cell_type": "markdown",
   "id": "o6xgYZfndrUc",
   "metadata": {
    "id": "o6xgYZfndrUc"
   },
   "source": [
    "### c. Оценка качества имплементированной модели"
   ]
  },
  {
   "cell_type": "code",
   "execution_count": 17,
   "id": "Ref6PdxQdsto",
   "metadata": {
    "colab": {
     "base_uri": "https://localhost:8080/"
    },
    "id": "Ref6PdxQdsto",
    "outputId": "9e80389f-125d-4f38-e0a0-d97b79c1742b"
   },
   "outputs": [
    {
     "name": "stdout",
     "output_type": "stream",
     "text": [
      "Simple CNN — IoU: 0.0909, Accuracy: 0.6578\n"
     ]
    }
   ],
   "source": [
    "iou_simple, acc_simple = evaluate(simple_model, train_loader)\n",
    "print(f\"Simple CNN — IoU: {iou_simple:.4f}, Accuracy: {acc_simple:.4f}\")\n"
   ]
  },
  {
   "cell_type": "markdown",
   "id": "1XbQvkpzeC3s",
   "metadata": {
    "id": "1XbQvkpzeC3s"
   },
   "source": [
    "### d. Сравнение с результатами из пункта 2\n",
    "\n",
    "Имплементированная вручную простая модель продемонстрировала значительно худшие результаты по сравнению с базовыми моделями из пункта 2. Это ожидаемо, так как она не использует сложные энкодеры, глубокие архитектуры и предобученные веса. Тем не менее, модель способна обучаться и выполнять задачу семантической сегментации.\n",
    "\n",
    "### Выводы\n",
    "\n",
    "Ручная реализация модели позволяет глубже понять архитектуру сегментационных сетей, однако в задачах реального применения она показывает крайне низкое качество. Это подчёркивает важность использования предобученных моделей, глубокой архитектуры и современных техник оптимизации. Простая CNN — лишь демонстрация принципов, а не конкурент современным решениям.\n",
    "\n",
    "### f. Код с улучшениями из бейзлайна\n",
    "К SimpleSegmentationModel добавляются техники из улучшенного бейзлайна: аугментации, комбинированная функция потерь, обучающая логика."
   ]
  },
  {
   "cell_type": "code",
   "execution_count": 20,
   "id": "5GrGCtvjeghL",
   "metadata": {
    "colab": {
     "base_uri": "https://localhost:8080/"
    },
    "id": "5GrGCtvjeghL",
    "outputId": "f0f2f114-ecc6-4cd1-c44b-204e9f5115f9"
   },
   "outputs": [
    {
     "name": "stdout",
     "output_type": "stream",
     "text": [
      "▶️ Обучение улучшенной простой модели:\n"
     ]
    },
    {
     "name": "stderr",
     "output_type": "stream",
     "text": [
      "100%|██████████| 924/924 [01:09<00:00, 13.21it/s]\n"
     ]
    },
    {
     "name": "stdout",
     "output_type": "stream",
     "text": [
      "Simple CNN (улучшенная) — IoU: 0.2954, Accuracy: 0.2995\n"
     ]
    }
   ],
   "source": [
    "import albumentations as A\n",
    "from albumentations.pytorch import ToTensorV2\n",
    "from torch.utils.data import DataLoader\n",
    "import torch.nn.functional as F\n",
    "\n",
    "# Аугментации (заменим на Affine вместо устаревшего ShiftScaleRotate)\n",
    "train_transform = A.Compose([\n",
    "    A.HorizontalFlip(p=0.5),\n",
    "    A.Affine(translate_percent=0.05, scale=(0.9, 1.1), rotate=(-15, 15), p=0.5),\n",
    "    A.RandomBrightnessContrast(p=0.2),\n",
    "    A.Resize(256, 256),\n",
    "    A.Normalize(),\n",
    "    ToTensorV2()\n",
    "])\n",
    "\n",
    "# Датасет с улучшенным трансформом\n",
    "train_dataset_aug = PetDataset(\n",
    "    images_dir=os.path.join(DATA_DIR, \"images\"),\n",
    "    masks_dir=os.path.join(DATA_DIR, \"annotations\", \"trimaps\"),\n",
    "    transform=train_transform\n",
    ")\n",
    "\n",
    "train_loader_aug = DataLoader(train_dataset_aug, batch_size=8, shuffle=True)\n",
    "\n",
    "# Улучшенная функция потерь\n",
    "def dice_loss(pred, target, smooth=1.):\n",
    "    pred = pred.contiguous()\n",
    "    target = target.contiguous()\n",
    "    intersection = (pred * target).sum(dim=2).sum(dim=2)\n",
    "    return 1 - ((2. * intersection + smooth) /\n",
    "                (pred.sum(dim=2).sum(dim=2) + target.sum(dim=2).sum(dim=2) + smooth)).mean()\n",
    "\n",
    "def combined_loss(pred, target):\n",
    "    bce = F.binary_cross_entropy(pred, target)\n",
    "    dice = dice_loss(pred, target)\n",
    "    return 0.5 * bce + 0.5 * dice\n",
    "\n",
    "# Обучение самодельной модели с улучшениями\n",
    "model_improved = SimpleSegmentationModel().to(device)\n",
    "optimizer_improved = torch.optim.Adam(model_improved.parameters(), lr=1e-3)\n",
    "\n",
    "print(\"▶️ Обучение улучшенной простой модели:\")\n",
    "train_one_epoch(model_improved, train_loader_aug, combined_loss, optimizer_improved)\n",
    "\n",
    "# 🔁 Оценка\n",
    "iou_imp, acc_imp = evaluate(model_improved, train_loader_aug)\n",
    "print(f\"Simple CNN (улучшенная) — IoU: {iou_imp:.4f}, Accuracy: {acc_imp:.4f}\")\n"
   ]
  },
  {
   "cell_type": "markdown",
   "id": "frmY6g8TgYcm",
   "metadata": {
    "id": "frmY6g8TgYcm"
   },
   "source": [
    "### h. Оценка качества моделей по выбранным метрикам\n",
    "Улучшенная простая модель (с добавлением аугментаций, нормализации и комбинированной функции потерь) показала следующие результаты:\n",
    "\n",
    "- IoU: 0.2954\n",
    "\n",
    "- Accuracy: 0.2995\n",
    "\n",
    "Это — заметное улучшение по сравнению с исходной простой моделью, у которой значения были 0.0909 и 0.6578 соответственно (возможно, accuracy снизилась из-за другой балансировки классов, но IoU — ключевая метрика для сегментации).\n",
    "\n",
    "### i. Сравнение результатов моделей в сравнении с пунктом 3\n",
    "Хотя улучшения улучшенной простой модели заметны по сравнению с её первоначальной версией, она по-прежнему значительно уступает качественным архитектурам из библиотеки segmentation_models.pytorch, особенно трансформерным (например, IoU=0.8043 для UNet-mit_b4).\n",
    "\n",
    "### j. Выводы\n",
    "Имплементация улучшений (аугментации, гибридная функция потерь) позволила значительно повысить эффективность самодельной модели. Тем не менее, она всё ещё не способна конкурировать с современными архитектурами. Это подтверждает, что качественные энкодеры, глубина сети и предобученные веса — критически важны для задач семантической сегментации."
   ]
  }
 ],
 "metadata": {
  "accelerator": "GPU",
  "colab": {
   "gpuType": "T4",
   "provenance": []
  },
  "kernelspec": {
   "display_name": "Python 3 (ipykernel)",
   "language": "python",
   "name": "python3"
  },
  "language_info": {
   "codemirror_mode": {
    "name": "ipython",
    "version": 3
   },
   "file_extension": ".py",
   "mimetype": "text/x-python",
   "name": "python",
   "nbconvert_exporter": "python",
   "pygments_lexer": "ipython3",
   "version": "3.11.3"
  },
  "widgets": {
   "application/vnd.jupyter.widget-state+json": {
    "053e3f8aba734c68bec0be82dfca3b89": {
     "model_module": "@jupyter-widgets/controls",
     "model_module_version": "1.5.0",
     "model_name": "ProgressStyleModel",
     "state": {
      "_model_module": "@jupyter-widgets/controls",
      "_model_module_version": "1.5.0",
      "_model_name": "ProgressStyleModel",
      "_view_count": null,
      "_view_module": "@jupyter-widgets/base",
      "_view_module_version": "1.2.0",
      "_view_name": "StyleView",
      "bar_color": null,
      "description_width": ""
     }
    },
    "066f36fc4fcc48c4b8901f3fd014800c": {
     "model_module": "@jupyter-widgets/base",
     "model_module_version": "1.2.0",
     "model_name": "LayoutModel",
     "state": {
      "_model_module": "@jupyter-widgets/base",
      "_model_module_version": "1.2.0",
      "_model_name": "LayoutModel",
      "_view_count": null,
      "_view_module": "@jupyter-widgets/base",
      "_view_module_version": "1.2.0",
      "_view_name": "LayoutView",
      "align_content": null,
      "align_items": null,
      "align_self": null,
      "border": null,
      "bottom": null,
      "display": null,
      "flex": null,
      "flex_flow": null,
      "grid_area": null,
      "grid_auto_columns": null,
      "grid_auto_flow": null,
      "grid_auto_rows": null,
      "grid_column": null,
      "grid_gap": null,
      "grid_row": null,
      "grid_template_areas": null,
      "grid_template_columns": null,
      "grid_template_rows": null,
      "height": null,
      "justify_content": null,
      "justify_items": null,
      "left": null,
      "margin": null,
      "max_height": null,
      "max_width": null,
      "min_height": null,
      "min_width": null,
      "object_fit": null,
      "object_position": null,
      "order": null,
      "overflow": null,
      "overflow_x": null,
      "overflow_y": null,
      "padding": null,
      "right": null,
      "top": null,
      "visibility": null,
      "width": null
     }
    },
    "0c054dfc4ad94666803bad3bdba8dc2e": {
     "model_module": "@jupyter-widgets/base",
     "model_module_version": "1.2.0",
     "model_name": "LayoutModel",
     "state": {
      "_model_module": "@jupyter-widgets/base",
      "_model_module_version": "1.2.0",
      "_model_name": "LayoutModel",
      "_view_count": null,
      "_view_module": "@jupyter-widgets/base",
      "_view_module_version": "1.2.0",
      "_view_name": "LayoutView",
      "align_content": null,
      "align_items": null,
      "align_self": null,
      "border": null,
      "bottom": null,
      "display": null,
      "flex": null,
      "flex_flow": null,
      "grid_area": null,
      "grid_auto_columns": null,
      "grid_auto_flow": null,
      "grid_auto_rows": null,
      "grid_column": null,
      "grid_gap": null,
      "grid_row": null,
      "grid_template_areas": null,
      "grid_template_columns": null,
      "grid_template_rows": null,
      "height": null,
      "justify_content": null,
      "justify_items": null,
      "left": null,
      "margin": null,
      "max_height": null,
      "max_width": null,
      "min_height": null,
      "min_width": null,
      "object_fit": null,
      "object_position": null,
      "order": null,
      "overflow": null,
      "overflow_x": null,
      "overflow_y": null,
      "padding": null,
      "right": null,
      "top": null,
      "visibility": null,
      "width": null
     }
    },
    "0c207ab64953477b8a50d782bfa5556f": {
     "model_module": "@jupyter-widgets/controls",
     "model_module_version": "1.5.0",
     "model_name": "HBoxModel",
     "state": {
      "_dom_classes": [],
      "_model_module": "@jupyter-widgets/controls",
      "_model_module_version": "1.5.0",
      "_model_name": "HBoxModel",
      "_view_count": null,
      "_view_module": "@jupyter-widgets/controls",
      "_view_module_version": "1.5.0",
      "_view_name": "HBoxView",
      "box_style": "",
      "children": [
       "IPY_MODEL_550b325efbf944e3a381e6e1ea556b47",
       "IPY_MODEL_67b49dbca9ce4d7a94233ba4b05ce6ed",
       "IPY_MODEL_2b380162c8fe44b1938f8900a7abe1d9"
      ],
      "layout": "IPY_MODEL_543a4b56b0164cb0b5e08cb1d4183b7b"
     }
    },
    "0d4f479d2b50456fbf3997c6329cd508": {
     "model_module": "@jupyter-widgets/base",
     "model_module_version": "1.2.0",
     "model_name": "LayoutModel",
     "state": {
      "_model_module": "@jupyter-widgets/base",
      "_model_module_version": "1.2.0",
      "_model_name": "LayoutModel",
      "_view_count": null,
      "_view_module": "@jupyter-widgets/base",
      "_view_module_version": "1.2.0",
      "_view_name": "LayoutView",
      "align_content": null,
      "align_items": null,
      "align_self": null,
      "border": null,
      "bottom": null,
      "display": null,
      "flex": null,
      "flex_flow": null,
      "grid_area": null,
      "grid_auto_columns": null,
      "grid_auto_flow": null,
      "grid_auto_rows": null,
      "grid_column": null,
      "grid_gap": null,
      "grid_row": null,
      "grid_template_areas": null,
      "grid_template_columns": null,
      "grid_template_rows": null,
      "height": null,
      "justify_content": null,
      "justify_items": null,
      "left": null,
      "margin": null,
      "max_height": null,
      "max_width": null,
      "min_height": null,
      "min_width": null,
      "object_fit": null,
      "object_position": null,
      "order": null,
      "overflow": null,
      "overflow_x": null,
      "overflow_y": null,
      "padding": null,
      "right": null,
      "top": null,
      "visibility": null,
      "width": null
     }
    },
    "0ec2d747e6bc4b3a81ba996fea21641b": {
     "model_module": "@jupyter-widgets/controls",
     "model_module_version": "1.5.0",
     "model_name": "DescriptionStyleModel",
     "state": {
      "_model_module": "@jupyter-widgets/controls",
      "_model_module_version": "1.5.0",
      "_model_name": "DescriptionStyleModel",
      "_view_count": null,
      "_view_module": "@jupyter-widgets/base",
      "_view_module_version": "1.2.0",
      "_view_name": "StyleView",
      "description_width": ""
     }
    },
    "1242cc45275347da8a470627467d8b3c": {
     "model_module": "@jupyter-widgets/controls",
     "model_module_version": "1.5.0",
     "model_name": "FloatProgressModel",
     "state": {
      "_dom_classes": [],
      "_model_module": "@jupyter-widgets/controls",
      "_model_module_version": "1.5.0",
      "_model_name": "FloatProgressModel",
      "_view_count": null,
      "_view_module": "@jupyter-widgets/controls",
      "_view_module_version": "1.5.0",
      "_view_name": "ProgressView",
      "bar_style": "success",
      "description": "",
      "description_tooltip": null,
      "layout": "IPY_MODEL_8e5519725ef846518b10d10d9516735b",
      "max": 245500720,
      "min": 0,
      "orientation": "horizontal",
      "style": "IPY_MODEL_5f2bc7d5839e4af483508992a56238f6",
      "value": 245500720
     }
    },
    "12c2006933c8414885544eda72c885ae": {
     "model_module": "@jupyter-widgets/controls",
     "model_module_version": "1.5.0",
     "model_name": "DescriptionStyleModel",
     "state": {
      "_model_module": "@jupyter-widgets/controls",
      "_model_module_version": "1.5.0",
      "_model_name": "DescriptionStyleModel",
      "_view_count": null,
      "_view_module": "@jupyter-widgets/base",
      "_view_module_version": "1.2.0",
      "_view_name": "StyleView",
      "description_width": ""
     }
    },
    "1471d9e752514951bb6c2bb9c59abb98": {
     "model_module": "@jupyter-widgets/controls",
     "model_module_version": "1.5.0",
     "model_name": "FloatProgressModel",
     "state": {
      "_dom_classes": [],
      "_model_module": "@jupyter-widgets/controls",
      "_model_module_version": "1.5.0",
      "_model_name": "FloatProgressModel",
      "_view_count": null,
      "_view_module": "@jupyter-widgets/controls",
      "_view_module_version": "1.5.0",
      "_view_name": "ProgressView",
      "bar_style": "success",
      "description": "",
      "description_tooltip": null,
      "layout": "IPY_MODEL_544c412079484569be09e6fe401a3fe3",
      "max": 135,
      "min": 0,
      "orientation": "horizontal",
      "style": "IPY_MODEL_b98919f45a2644c5b1eb6e6033a727f6",
      "value": 135
     }
    },
    "15003b65df8d42f5af45642526ff205c": {
     "model_module": "@jupyter-widgets/base",
     "model_module_version": "1.2.0",
     "model_name": "LayoutModel",
     "state": {
      "_model_module": "@jupyter-widgets/base",
      "_model_module_version": "1.2.0",
      "_model_name": "LayoutModel",
      "_view_count": null,
      "_view_module": "@jupyter-widgets/base",
      "_view_module_version": "1.2.0",
      "_view_name": "LayoutView",
      "align_content": null,
      "align_items": null,
      "align_self": null,
      "border": null,
      "bottom": null,
      "display": null,
      "flex": null,
      "flex_flow": null,
      "grid_area": null,
      "grid_auto_columns": null,
      "grid_auto_flow": null,
      "grid_auto_rows": null,
      "grid_column": null,
      "grid_gap": null,
      "grid_row": null,
      "grid_template_areas": null,
      "grid_template_columns": null,
      "grid_template_rows": null,
      "height": null,
      "justify_content": null,
      "justify_items": null,
      "left": null,
      "margin": null,
      "max_height": null,
      "max_width": null,
      "min_height": null,
      "min_width": null,
      "object_fit": null,
      "object_position": null,
      "order": null,
      "overflow": null,
      "overflow_x": null,
      "overflow_y": null,
      "padding": null,
      "right": null,
      "top": null,
      "visibility": null,
      "width": null
     }
    },
    "1ad0f5c26cf44d0a9caf1f2c3977685a": {
     "model_module": "@jupyter-widgets/controls",
     "model_module_version": "1.5.0",
     "model_name": "HTMLModel",
     "state": {
      "_dom_classes": [],
      "_model_module": "@jupyter-widgets/controls",
      "_model_module_version": "1.5.0",
      "_model_name": "HTMLModel",
      "_view_count": null,
      "_view_module": "@jupyter-widgets/controls",
      "_view_module_version": "1.5.0",
      "_view_name": "HTMLView",
      "description": "",
      "description_tooltip": null,
      "layout": "IPY_MODEL_d0016e44cf0f45f5be21509590bb3734",
      "placeholder": "​",
      "style": "IPY_MODEL_cda6a779c9104109bcfa9f3f8efd2a88",
      "value": " 14.3M/14.3M [00:00&lt;00:00, 40.1MB/s]"
     }
    },
    "1bf4e3a2ad594c7d815c2266cabba88a": {
     "model_module": "@jupyter-widgets/controls",
     "model_module_version": "1.5.0",
     "model_name": "HBoxModel",
     "state": {
      "_dom_classes": [],
      "_model_module": "@jupyter-widgets/controls",
      "_model_module_version": "1.5.0",
      "_model_name": "HBoxModel",
      "_view_count": null,
      "_view_module": "@jupyter-widgets/controls",
      "_view_module_version": "1.5.0",
      "_view_name": "HBoxView",
      "box_style": "",
      "children": [
       "IPY_MODEL_a556329e98b748928109e2004b50d22d",
       "IPY_MODEL_23b1ed2a148c4ed999c5411450658774",
       "IPY_MODEL_6c4d76ca1c684dacabc3a2538e2c7a28"
      ],
      "layout": "IPY_MODEL_66fe72bcf9e3404d9190f24dadf02fd9"
     }
    },
    "1c893376d988433cb5a69fca3ed7cda8": {
     "model_module": "@jupyter-widgets/controls",
     "model_module_version": "1.5.0",
     "model_name": "HBoxModel",
     "state": {
      "_dom_classes": [],
      "_model_module": "@jupyter-widgets/controls",
      "_model_module_version": "1.5.0",
      "_model_name": "HBoxModel",
      "_view_count": null,
      "_view_module": "@jupyter-widgets/controls",
      "_view_module_version": "1.5.0",
      "_view_name": "HBoxView",
      "box_style": "",
      "children": [
       "IPY_MODEL_405d636ed8ed42f1a48629fdd2e6d89c",
       "IPY_MODEL_1471d9e752514951bb6c2bb9c59abb98",
       "IPY_MODEL_1f024d6204d746b28b3c0fcc8ec88c93"
      ],
      "layout": "IPY_MODEL_0d4f479d2b50456fbf3997c6329cd508"
     }
    },
    "1f024d6204d746b28b3c0fcc8ec88c93": {
     "model_module": "@jupyter-widgets/controls",
     "model_module_version": "1.5.0",
     "model_name": "HTMLModel",
     "state": {
      "_dom_classes": [],
      "_model_module": "@jupyter-widgets/controls",
      "_model_module_version": "1.5.0",
      "_model_name": "HTMLModel",
      "_view_count": null,
      "_view_module": "@jupyter-widgets/controls",
      "_view_module_version": "1.5.0",
      "_view_name": "HTMLView",
      "description": "",
      "description_tooltip": null,
      "layout": "IPY_MODEL_c747ef3585c0417f8c9e94c23add8219",
      "placeholder": "​",
      "style": "IPY_MODEL_9b07eff284864d36863e8ceb2f55cc6a",
      "value": " 135/135 [00:00&lt;00:00, 12.2kB/s]"
     }
    },
    "23b1ed2a148c4ed999c5411450658774": {
     "model_module": "@jupyter-widgets/controls",
     "model_module_version": "1.5.0",
     "model_name": "FloatProgressModel",
     "state": {
      "_dom_classes": [],
      "_model_module": "@jupyter-widgets/controls",
      "_model_module_version": "1.5.0",
      "_model_name": "FloatProgressModel",
      "_view_count": null,
      "_view_module": "@jupyter-widgets/controls",
      "_view_module_version": "1.5.0",
      "_view_name": "ProgressView",
      "bar_style": "success",
      "description": "",
      "description_tooltip": null,
      "layout": "IPY_MODEL_a3e6ceb9a728457e92888968e20c023d",
      "max": 87275112,
      "min": 0,
      "orientation": "horizontal",
      "style": "IPY_MODEL_053e3f8aba734c68bec0be82dfca3b89",
      "value": 87275112
     }
    },
    "298598b4435b4ae4a6b608859dcf022a": {
     "model_module": "@jupyter-widgets/controls",
     "model_module_version": "1.5.0",
     "model_name": "HTMLModel",
     "state": {
      "_dom_classes": [],
      "_model_module": "@jupyter-widgets/controls",
      "_model_module_version": "1.5.0",
      "_model_name": "HTMLModel",
      "_view_count": null,
      "_view_module": "@jupyter-widgets/controls",
      "_view_module_version": "1.5.0",
      "_view_name": "HTMLView",
      "description": "",
      "description_tooltip": null,
      "layout": "IPY_MODEL_c5f456359aac40249b2b18675c6b9861",
      "placeholder": "​",
      "style": "IPY_MODEL_95e485b62b184bf195bcef1e3fc995b2",
      "value": " 156/156 [00:00&lt;00:00, 7.69kB/s]"
     }
    },
    "29863f98c47644f1ad9ce2f471797ea7": {
     "model_module": "@jupyter-widgets/base",
     "model_module_version": "1.2.0",
     "model_name": "LayoutModel",
     "state": {
      "_model_module": "@jupyter-widgets/base",
      "_model_module_version": "1.2.0",
      "_model_name": "LayoutModel",
      "_view_count": null,
      "_view_module": "@jupyter-widgets/base",
      "_view_module_version": "1.2.0",
      "_view_name": "LayoutView",
      "align_content": null,
      "align_items": null,
      "align_self": null,
      "border": null,
      "bottom": null,
      "display": null,
      "flex": null,
      "flex_flow": null,
      "grid_area": null,
      "grid_auto_columns": null,
      "grid_auto_flow": null,
      "grid_auto_rows": null,
      "grid_column": null,
      "grid_gap": null,
      "grid_row": null,
      "grid_template_areas": null,
      "grid_template_columns": null,
      "grid_template_rows": null,
      "height": null,
      "justify_content": null,
      "justify_items": null,
      "left": null,
      "margin": null,
      "max_height": null,
      "max_width": null,
      "min_height": null,
      "min_width": null,
      "object_fit": null,
      "object_position": null,
      "order": null,
      "overflow": null,
      "overflow_x": null,
      "overflow_y": null,
      "padding": null,
      "right": null,
      "top": null,
      "visibility": null,
      "width": null
     }
    },
    "2b380162c8fe44b1938f8900a7abe1d9": {
     "model_module": "@jupyter-widgets/controls",
     "model_module_version": "1.5.0",
     "model_name": "HTMLModel",
     "state": {
      "_dom_classes": [],
      "_model_module": "@jupyter-widgets/controls",
      "_model_module_version": "1.5.0",
      "_model_name": "HTMLModel",
      "_view_count": null,
      "_view_module": "@jupyter-widgets/controls",
      "_view_module_version": "1.5.0",
      "_view_name": "HTMLView",
      "description": "",
      "description_tooltip": null,
      "layout": "IPY_MODEL_58f208cd581b4bf78c1f5dee077f9122",
      "placeholder": "​",
      "style": "IPY_MODEL_e92cf6868fc64775933497f1b75fc2e8",
      "value": " 135/135 [00:00&lt;00:00, 9.69kB/s]"
     }
    },
    "314dbf016d9149c8bc4d91eddd4c8083": {
     "model_module": "@jupyter-widgets/controls",
     "model_module_version": "1.5.0",
     "model_name": "HTMLModel",
     "state": {
      "_dom_classes": [],
      "_model_module": "@jupyter-widgets/controls",
      "_model_module_version": "1.5.0",
      "_model_name": "HTMLModel",
      "_view_count": null,
      "_view_module": "@jupyter-widgets/controls",
      "_view_module_version": "1.5.0",
      "_view_name": "HTMLView",
      "description": "",
      "description_tooltip": null,
      "layout": "IPY_MODEL_3911efbdf92941f6b4ab912df074aec2",
      "placeholder": "​",
      "style": "IPY_MODEL_331e708afe664b63b66fecb146b17e7e",
      "value": "model.safetensors: 100%"
     }
    },
    "331e708afe664b63b66fecb146b17e7e": {
     "model_module": "@jupyter-widgets/controls",
     "model_module_version": "1.5.0",
     "model_name": "DescriptionStyleModel",
     "state": {
      "_model_module": "@jupyter-widgets/controls",
      "_model_module_version": "1.5.0",
      "_model_name": "DescriptionStyleModel",
      "_view_count": null,
      "_view_module": "@jupyter-widgets/base",
      "_view_module_version": "1.2.0",
      "_view_name": "StyleView",
      "description_width": ""
     }
    },
    "33af53dd3e7f4500a7548126137eb9cc": {
     "model_module": "@jupyter-widgets/controls",
     "model_module_version": "1.5.0",
     "model_name": "ProgressStyleModel",
     "state": {
      "_model_module": "@jupyter-widgets/controls",
      "_model_module_version": "1.5.0",
      "_model_name": "ProgressStyleModel",
      "_view_count": null,
      "_view_module": "@jupyter-widgets/base",
      "_view_module_version": "1.2.0",
      "_view_name": "StyleView",
      "bar_color": null,
      "description_width": ""
     }
    },
    "3911efbdf92941f6b4ab912df074aec2": {
     "model_module": "@jupyter-widgets/base",
     "model_module_version": "1.2.0",
     "model_name": "LayoutModel",
     "state": {
      "_model_module": "@jupyter-widgets/base",
      "_model_module_version": "1.2.0",
      "_model_name": "LayoutModel",
      "_view_count": null,
      "_view_module": "@jupyter-widgets/base",
      "_view_module_version": "1.2.0",
      "_view_name": "LayoutView",
      "align_content": null,
      "align_items": null,
      "align_self": null,
      "border": null,
      "bottom": null,
      "display": null,
      "flex": null,
      "flex_flow": null,
      "grid_area": null,
      "grid_auto_columns": null,
      "grid_auto_flow": null,
      "grid_auto_rows": null,
      "grid_column": null,
      "grid_gap": null,
      "grid_row": null,
      "grid_template_areas": null,
      "grid_template_columns": null,
      "grid_template_rows": null,
      "height": null,
      "justify_content": null,
      "justify_items": null,
      "left": null,
      "margin": null,
      "max_height": null,
      "max_width": null,
      "min_height": null,
      "min_width": null,
      "object_fit": null,
      "object_position": null,
      "order": null,
      "overflow": null,
      "overflow_x": null,
      "overflow_y": null,
      "padding": null,
      "right": null,
      "top": null,
      "visibility": null,
      "width": null
     }
    },
    "3cdff056f1e34d72babda84595733709": {
     "model_module": "@jupyter-widgets/controls",
     "model_module_version": "1.5.0",
     "model_name": "HTMLModel",
     "state": {
      "_dom_classes": [],
      "_model_module": "@jupyter-widgets/controls",
      "_model_module_version": "1.5.0",
      "_model_name": "HTMLModel",
      "_view_count": null,
      "_view_module": "@jupyter-widgets/controls",
      "_view_module_version": "1.5.0",
      "_view_name": "HTMLView",
      "description": "",
      "description_tooltip": null,
      "layout": "IPY_MODEL_066f36fc4fcc48c4b8901f3fd014800c",
      "placeholder": "​",
      "style": "IPY_MODEL_b418b1674fd544618ef0ad80def4c37f",
      "value": "model.safetensors: 100%"
     }
    },
    "3e03b97033a34826805be6ed12cccb84": {
     "model_module": "@jupyter-widgets/base",
     "model_module_version": "1.2.0",
     "model_name": "LayoutModel",
     "state": {
      "_model_module": "@jupyter-widgets/base",
      "_model_module_version": "1.2.0",
      "_model_name": "LayoutModel",
      "_view_count": null,
      "_view_module": "@jupyter-widgets/base",
      "_view_module_version": "1.2.0",
      "_view_name": "LayoutView",
      "align_content": null,
      "align_items": null,
      "align_self": null,
      "border": null,
      "bottom": null,
      "display": null,
      "flex": null,
      "flex_flow": null,
      "grid_area": null,
      "grid_auto_columns": null,
      "grid_auto_flow": null,
      "grid_auto_rows": null,
      "grid_column": null,
      "grid_gap": null,
      "grid_row": null,
      "grid_template_areas": null,
      "grid_template_columns": null,
      "grid_template_rows": null,
      "height": null,
      "justify_content": null,
      "justify_items": null,
      "left": null,
      "margin": null,
      "max_height": null,
      "max_width": null,
      "min_height": null,
      "min_width": null,
      "object_fit": null,
      "object_position": null,
      "order": null,
      "overflow": null,
      "overflow_x": null,
      "overflow_y": null,
      "padding": null,
      "right": null,
      "top": null,
      "visibility": null,
      "width": null
     }
    },
    "3e3ae33c1f634f119bffd46ea0f2f460": {
     "model_module": "@jupyter-widgets/controls",
     "model_module_version": "1.5.0",
     "model_name": "DescriptionStyleModel",
     "state": {
      "_model_module": "@jupyter-widgets/controls",
      "_model_module_version": "1.5.0",
      "_model_name": "DescriptionStyleModel",
      "_view_count": null,
      "_view_module": "@jupyter-widgets/base",
      "_view_module_version": "1.2.0",
      "_view_name": "StyleView",
      "description_width": ""
     }
    },
    "3e7c56aa82ce4bfebddc6ee4b8544d09": {
     "model_module": "@jupyter-widgets/controls",
     "model_module_version": "1.5.0",
     "model_name": "DescriptionStyleModel",
     "state": {
      "_model_module": "@jupyter-widgets/controls",
      "_model_module_version": "1.5.0",
      "_model_name": "DescriptionStyleModel",
      "_view_count": null,
      "_view_module": "@jupyter-widgets/base",
      "_view_module_version": "1.2.0",
      "_view_name": "StyleView",
      "description_width": ""
     }
    },
    "3f141825368e45498d581c1ea95d932c": {
     "model_module": "@jupyter-widgets/controls",
     "model_module_version": "1.5.0",
     "model_name": "HBoxModel",
     "state": {
      "_dom_classes": [],
      "_model_module": "@jupyter-widgets/controls",
      "_model_module_version": "1.5.0",
      "_model_name": "HBoxModel",
      "_view_count": null,
      "_view_module": "@jupyter-widgets/controls",
      "_view_module_version": "1.5.0",
      "_view_name": "HBoxView",
      "box_style": "",
      "children": [
       "IPY_MODEL_314dbf016d9149c8bc4d91eddd4c8083",
       "IPY_MODEL_8c2af2dcf4164216a27b72e7fd4b7b2f",
       "IPY_MODEL_1ad0f5c26cf44d0a9caf1f2c3977685a"
      ],
      "layout": "IPY_MODEL_410de83aee354b009d27d63cdb09dbad"
     }
    },
    "405d636ed8ed42f1a48629fdd2e6d89c": {
     "model_module": "@jupyter-widgets/controls",
     "model_module_version": "1.5.0",
     "model_name": "HTMLModel",
     "state": {
      "_dom_classes": [],
      "_model_module": "@jupyter-widgets/controls",
      "_model_module_version": "1.5.0",
      "_model_name": "HTMLModel",
      "_view_count": null,
      "_view_module": "@jupyter-widgets/controls",
      "_view_module_version": "1.5.0",
      "_view_name": "HTMLView",
      "description": "",
      "description_tooltip": null,
      "layout": "IPY_MODEL_eedaf73a8669406480f3c33676046721",
      "placeholder": "​",
      "style": "IPY_MODEL_a8b037782f5740bd8eb6f191cd0a9b83",
      "value": "config.json: 100%"
     }
    },
    "410de83aee354b009d27d63cdb09dbad": {
     "model_module": "@jupyter-widgets/base",
     "model_module_version": "1.2.0",
     "model_name": "LayoutModel",
     "state": {
      "_model_module": "@jupyter-widgets/base",
      "_model_module_version": "1.2.0",
      "_model_name": "LayoutModel",
      "_view_count": null,
      "_view_module": "@jupyter-widgets/base",
      "_view_module_version": "1.2.0",
      "_view_name": "LayoutView",
      "align_content": null,
      "align_items": null,
      "align_self": null,
      "border": null,
      "bottom": null,
      "display": null,
      "flex": null,
      "flex_flow": null,
      "grid_area": null,
      "grid_auto_columns": null,
      "grid_auto_flow": null,
      "grid_auto_rows": null,
      "grid_column": null,
      "grid_gap": null,
      "grid_row": null,
      "grid_template_areas": null,
      "grid_template_columns": null,
      "grid_template_rows": null,
      "height": null,
      "justify_content": null,
      "justify_items": null,
      "left": null,
      "margin": null,
      "max_height": null,
      "max_width": null,
      "min_height": null,
      "min_width": null,
      "object_fit": null,
      "object_position": null,
      "order": null,
      "overflow": null,
      "overflow_x": null,
      "overflow_y": null,
      "padding": null,
      "right": null,
      "top": null,
      "visibility": null,
      "width": null
     }
    },
    "517ceae0def341d39f43f4222ef9ff7b": {
     "model_module": "@jupyter-widgets/base",
     "model_module_version": "1.2.0",
     "model_name": "LayoutModel",
     "state": {
      "_model_module": "@jupyter-widgets/base",
      "_model_module_version": "1.2.0",
      "_model_name": "LayoutModel",
      "_view_count": null,
      "_view_module": "@jupyter-widgets/base",
      "_view_module_version": "1.2.0",
      "_view_name": "LayoutView",
      "align_content": null,
      "align_items": null,
      "align_self": null,
      "border": null,
      "bottom": null,
      "display": null,
      "flex": null,
      "flex_flow": null,
      "grid_area": null,
      "grid_auto_columns": null,
      "grid_auto_flow": null,
      "grid_auto_rows": null,
      "grid_column": null,
      "grid_gap": null,
      "grid_row": null,
      "grid_template_areas": null,
      "grid_template_columns": null,
      "grid_template_rows": null,
      "height": null,
      "justify_content": null,
      "justify_items": null,
      "left": null,
      "margin": null,
      "max_height": null,
      "max_width": null,
      "min_height": null,
      "min_width": null,
      "object_fit": null,
      "object_position": null,
      "order": null,
      "overflow": null,
      "overflow_x": null,
      "overflow_y": null,
      "padding": null,
      "right": null,
      "top": null,
      "visibility": null,
      "width": null
     }
    },
    "543a4b56b0164cb0b5e08cb1d4183b7b": {
     "model_module": "@jupyter-widgets/base",
     "model_module_version": "1.2.0",
     "model_name": "LayoutModel",
     "state": {
      "_model_module": "@jupyter-widgets/base",
      "_model_module_version": "1.2.0",
      "_model_name": "LayoutModel",
      "_view_count": null,
      "_view_module": "@jupyter-widgets/base",
      "_view_module_version": "1.2.0",
      "_view_name": "LayoutView",
      "align_content": null,
      "align_items": null,
      "align_self": null,
      "border": null,
      "bottom": null,
      "display": null,
      "flex": null,
      "flex_flow": null,
      "grid_area": null,
      "grid_auto_columns": null,
      "grid_auto_flow": null,
      "grid_auto_rows": null,
      "grid_column": null,
      "grid_gap": null,
      "grid_row": null,
      "grid_template_areas": null,
      "grid_template_columns": null,
      "grid_template_rows": null,
      "height": null,
      "justify_content": null,
      "justify_items": null,
      "left": null,
      "margin": null,
      "max_height": null,
      "max_width": null,
      "min_height": null,
      "min_width": null,
      "object_fit": null,
      "object_position": null,
      "order": null,
      "overflow": null,
      "overflow_x": null,
      "overflow_y": null,
      "padding": null,
      "right": null,
      "top": null,
      "visibility": null,
      "width": null
     }
    },
    "544c412079484569be09e6fe401a3fe3": {
     "model_module": "@jupyter-widgets/base",
     "model_module_version": "1.2.0",
     "model_name": "LayoutModel",
     "state": {
      "_model_module": "@jupyter-widgets/base",
      "_model_module_version": "1.2.0",
      "_model_name": "LayoutModel",
      "_view_count": null,
      "_view_module": "@jupyter-widgets/base",
      "_view_module_version": "1.2.0",
      "_view_name": "LayoutView",
      "align_content": null,
      "align_items": null,
      "align_self": null,
      "border": null,
      "bottom": null,
      "display": null,
      "flex": null,
      "flex_flow": null,
      "grid_area": null,
      "grid_auto_columns": null,
      "grid_auto_flow": null,
      "grid_auto_rows": null,
      "grid_column": null,
      "grid_gap": null,
      "grid_row": null,
      "grid_template_areas": null,
      "grid_template_columns": null,
      "grid_template_rows": null,
      "height": null,
      "justify_content": null,
      "justify_items": null,
      "left": null,
      "margin": null,
      "max_height": null,
      "max_width": null,
      "min_height": null,
      "min_width": null,
      "object_fit": null,
      "object_position": null,
      "order": null,
      "overflow": null,
      "overflow_x": null,
      "overflow_y": null,
      "padding": null,
      "right": null,
      "top": null,
      "visibility": null,
      "width": null
     }
    },
    "550b325efbf944e3a381e6e1ea556b47": {
     "model_module": "@jupyter-widgets/controls",
     "model_module_version": "1.5.0",
     "model_name": "HTMLModel",
     "state": {
      "_dom_classes": [],
      "_model_module": "@jupyter-widgets/controls",
      "_model_module_version": "1.5.0",
      "_model_name": "HTMLModel",
      "_view_count": null,
      "_view_module": "@jupyter-widgets/controls",
      "_view_module_version": "1.5.0",
      "_view_name": "HTMLView",
      "description": "",
      "description_tooltip": null,
      "layout": "IPY_MODEL_15003b65df8d42f5af45642526ff205c",
      "placeholder": "​",
      "style": "IPY_MODEL_0ec2d747e6bc4b3a81ba996fea21641b",
      "value": "config.json: 100%"
     }
    },
    "56dd009e4e6344dbb0ba05b31c13c13d": {
     "model_module": "@jupyter-widgets/controls",
     "model_module_version": "1.5.0",
     "model_name": "HTMLModel",
     "state": {
      "_dom_classes": [],
      "_model_module": "@jupyter-widgets/controls",
      "_model_module_version": "1.5.0",
      "_model_name": "HTMLModel",
      "_view_count": null,
      "_view_module": "@jupyter-widgets/controls",
      "_view_module_version": "1.5.0",
      "_view_name": "HTMLView",
      "description": "",
      "description_tooltip": null,
      "layout": "IPY_MODEL_58de7038e9b142d89decc1298f5734c8",
      "placeholder": "​",
      "style": "IPY_MODEL_3e7c56aa82ce4bfebddc6ee4b8544d09",
      "value": " 246M/246M [00:06&lt;00:00, 174MB/s]"
     }
    },
    "58de7038e9b142d89decc1298f5734c8": {
     "model_module": "@jupyter-widgets/base",
     "model_module_version": "1.2.0",
     "model_name": "LayoutModel",
     "state": {
      "_model_module": "@jupyter-widgets/base",
      "_model_module_version": "1.2.0",
      "_model_name": "LayoutModel",
      "_view_count": null,
      "_view_module": "@jupyter-widgets/base",
      "_view_module_version": "1.2.0",
      "_view_name": "LayoutView",
      "align_content": null,
      "align_items": null,
      "align_self": null,
      "border": null,
      "bottom": null,
      "display": null,
      "flex": null,
      "flex_flow": null,
      "grid_area": null,
      "grid_auto_columns": null,
      "grid_auto_flow": null,
      "grid_auto_rows": null,
      "grid_column": null,
      "grid_gap": null,
      "grid_row": null,
      "grid_template_areas": null,
      "grid_template_columns": null,
      "grid_template_rows": null,
      "height": null,
      "justify_content": null,
      "justify_items": null,
      "left": null,
      "margin": null,
      "max_height": null,
      "max_width": null,
      "min_height": null,
      "min_width": null,
      "object_fit": null,
      "object_position": null,
      "order": null,
      "overflow": null,
      "overflow_x": null,
      "overflow_y": null,
      "padding": null,
      "right": null,
      "top": null,
      "visibility": null,
      "width": null
     }
    },
    "58f208cd581b4bf78c1f5dee077f9122": {
     "model_module": "@jupyter-widgets/base",
     "model_module_version": "1.2.0",
     "model_name": "LayoutModel",
     "state": {
      "_model_module": "@jupyter-widgets/base",
      "_model_module_version": "1.2.0",
      "_model_name": "LayoutModel",
      "_view_count": null,
      "_view_module": "@jupyter-widgets/base",
      "_view_module_version": "1.2.0",
      "_view_name": "LayoutView",
      "align_content": null,
      "align_items": null,
      "align_self": null,
      "border": null,
      "bottom": null,
      "display": null,
      "flex": null,
      "flex_flow": null,
      "grid_area": null,
      "grid_auto_columns": null,
      "grid_auto_flow": null,
      "grid_auto_rows": null,
      "grid_column": null,
      "grid_gap": null,
      "grid_row": null,
      "grid_template_areas": null,
      "grid_template_columns": null,
      "grid_template_rows": null,
      "height": null,
      "justify_content": null,
      "justify_items": null,
      "left": null,
      "margin": null,
      "max_height": null,
      "max_width": null,
      "min_height": null,
      "min_width": null,
      "object_fit": null,
      "object_position": null,
      "order": null,
      "overflow": null,
      "overflow_x": null,
      "overflow_y": null,
      "padding": null,
      "right": null,
      "top": null,
      "visibility": null,
      "width": null
     }
    },
    "5f2bc7d5839e4af483508992a56238f6": {
     "model_module": "@jupyter-widgets/controls",
     "model_module_version": "1.5.0",
     "model_name": "ProgressStyleModel",
     "state": {
      "_model_module": "@jupyter-widgets/controls",
      "_model_module_version": "1.5.0",
      "_model_name": "ProgressStyleModel",
      "_view_count": null,
      "_view_module": "@jupyter-widgets/base",
      "_view_module_version": "1.2.0",
      "_view_name": "StyleView",
      "bar_color": null,
      "description_width": ""
     }
    },
    "6333755e69b04ca3afb31a7025643446": {
     "model_module": "@jupyter-widgets/controls",
     "model_module_version": "1.5.0",
     "model_name": "ProgressStyleModel",
     "state": {
      "_model_module": "@jupyter-widgets/controls",
      "_model_module_version": "1.5.0",
      "_model_name": "ProgressStyleModel",
      "_view_count": null,
      "_view_module": "@jupyter-widgets/base",
      "_view_module_version": "1.2.0",
      "_view_name": "StyleView",
      "bar_color": null,
      "description_width": ""
     }
    },
    "66fe72bcf9e3404d9190f24dadf02fd9": {
     "model_module": "@jupyter-widgets/base",
     "model_module_version": "1.2.0",
     "model_name": "LayoutModel",
     "state": {
      "_model_module": "@jupyter-widgets/base",
      "_model_module_version": "1.2.0",
      "_model_name": "LayoutModel",
      "_view_count": null,
      "_view_module": "@jupyter-widgets/base",
      "_view_module_version": "1.2.0",
      "_view_name": "LayoutView",
      "align_content": null,
      "align_items": null,
      "align_self": null,
      "border": null,
      "bottom": null,
      "display": null,
      "flex": null,
      "flex_flow": null,
      "grid_area": null,
      "grid_auto_columns": null,
      "grid_auto_flow": null,
      "grid_auto_rows": null,
      "grid_column": null,
      "grid_gap": null,
      "grid_row": null,
      "grid_template_areas": null,
      "grid_template_columns": null,
      "grid_template_rows": null,
      "height": null,
      "justify_content": null,
      "justify_items": null,
      "left": null,
      "margin": null,
      "max_height": null,
      "max_width": null,
      "min_height": null,
      "min_width": null,
      "object_fit": null,
      "object_position": null,
      "order": null,
      "overflow": null,
      "overflow_x": null,
      "overflow_y": null,
      "padding": null,
      "right": null,
      "top": null,
      "visibility": null,
      "width": null
     }
    },
    "67b49dbca9ce4d7a94233ba4b05ce6ed": {
     "model_module": "@jupyter-widgets/controls",
     "model_module_version": "1.5.0",
     "model_name": "FloatProgressModel",
     "state": {
      "_dom_classes": [],
      "_model_module": "@jupyter-widgets/controls",
      "_model_module_version": "1.5.0",
      "_model_name": "FloatProgressModel",
      "_view_count": null,
      "_view_module": "@jupyter-widgets/controls",
      "_view_module_version": "1.5.0",
      "_view_name": "ProgressView",
      "bar_style": "success",
      "description": "",
      "description_tooltip": null,
      "layout": "IPY_MODEL_8acddb613c934920a9e9bee6ad70fb95",
      "max": 135,
      "min": 0,
      "orientation": "horizontal",
      "style": "IPY_MODEL_6333755e69b04ca3afb31a7025643446",
      "value": 135
     }
    },
    "6c4d76ca1c684dacabc3a2538e2c7a28": {
     "model_module": "@jupyter-widgets/controls",
     "model_module_version": "1.5.0",
     "model_name": "HTMLModel",
     "state": {
      "_dom_classes": [],
      "_model_module": "@jupyter-widgets/controls",
      "_model_module_version": "1.5.0",
      "_model_name": "HTMLModel",
      "_view_count": null,
      "_view_module": "@jupyter-widgets/controls",
      "_view_module_version": "1.5.0",
      "_view_name": "HTMLView",
      "description": "",
      "description_tooltip": null,
      "layout": "IPY_MODEL_0c054dfc4ad94666803bad3bdba8dc2e",
      "placeholder": "​",
      "style": "IPY_MODEL_abd120f3318c48f1917d2f90daa3bb87",
      "value": " 87.3M/87.3M [00:00&lt;00:00, 120MB/s]"
     }
    },
    "777827f1e5a94d6aa84db904e1ba8118": {
     "model_module": "@jupyter-widgets/controls",
     "model_module_version": "1.5.0",
     "model_name": "HBoxModel",
     "state": {
      "_dom_classes": [],
      "_model_module": "@jupyter-widgets/controls",
      "_model_module_version": "1.5.0",
      "_model_name": "HBoxModel",
      "_view_count": null,
      "_view_module": "@jupyter-widgets/controls",
      "_view_module_version": "1.5.0",
      "_view_name": "HBoxView",
      "box_style": "",
      "children": [
       "IPY_MODEL_da4218dce68540288b76c6518e874303",
       "IPY_MODEL_f2b80c6056fd4c34b8eabbeb9ccaeace",
       "IPY_MODEL_298598b4435b4ae4a6b608859dcf022a"
      ],
      "layout": "IPY_MODEL_517ceae0def341d39f43f4222ef9ff7b"
     }
    },
    "8acddb613c934920a9e9bee6ad70fb95": {
     "model_module": "@jupyter-widgets/base",
     "model_module_version": "1.2.0",
     "model_name": "LayoutModel",
     "state": {
      "_model_module": "@jupyter-widgets/base",
      "_model_module_version": "1.2.0",
      "_model_name": "LayoutModel",
      "_view_count": null,
      "_view_module": "@jupyter-widgets/base",
      "_view_module_version": "1.2.0",
      "_view_name": "LayoutView",
      "align_content": null,
      "align_items": null,
      "align_self": null,
      "border": null,
      "bottom": null,
      "display": null,
      "flex": null,
      "flex_flow": null,
      "grid_area": null,
      "grid_auto_columns": null,
      "grid_auto_flow": null,
      "grid_auto_rows": null,
      "grid_column": null,
      "grid_gap": null,
      "grid_row": null,
      "grid_template_areas": null,
      "grid_template_columns": null,
      "grid_template_rows": null,
      "height": null,
      "justify_content": null,
      "justify_items": null,
      "left": null,
      "margin": null,
      "max_height": null,
      "max_width": null,
      "min_height": null,
      "min_width": null,
      "object_fit": null,
      "object_position": null,
      "order": null,
      "overflow": null,
      "overflow_x": null,
      "overflow_y": null,
      "padding": null,
      "right": null,
      "top": null,
      "visibility": null,
      "width": null
     }
    },
    "8c2af2dcf4164216a27b72e7fd4b7b2f": {
     "model_module": "@jupyter-widgets/controls",
     "model_module_version": "1.5.0",
     "model_name": "FloatProgressModel",
     "state": {
      "_dom_classes": [],
      "_model_module": "@jupyter-widgets/controls",
      "_model_module_version": "1.5.0",
      "_model_name": "FloatProgressModel",
      "_view_count": null,
      "_view_module": "@jupyter-widgets/controls",
      "_view_module_version": "1.5.0",
      "_view_name": "ProgressView",
      "bar_style": "success",
      "description": "",
      "description_tooltip": null,
      "layout": "IPY_MODEL_a220f41ce6474567bd526dafa4be8280",
      "max": 14321416,
      "min": 0,
      "orientation": "horizontal",
      "style": "IPY_MODEL_33af53dd3e7f4500a7548126137eb9cc",
      "value": 14321416
     }
    },
    "8dbc2428c9f14be2b84e99590406fcd5": {
     "model_module": "@jupyter-widgets/base",
     "model_module_version": "1.2.0",
     "model_name": "LayoutModel",
     "state": {
      "_model_module": "@jupyter-widgets/base",
      "_model_module_version": "1.2.0",
      "_model_name": "LayoutModel",
      "_view_count": null,
      "_view_module": "@jupyter-widgets/base",
      "_view_module_version": "1.2.0",
      "_view_name": "LayoutView",
      "align_content": null,
      "align_items": null,
      "align_self": null,
      "border": null,
      "bottom": null,
      "display": null,
      "flex": null,
      "flex_flow": null,
      "grid_area": null,
      "grid_auto_columns": null,
      "grid_auto_flow": null,
      "grid_auto_rows": null,
      "grid_column": null,
      "grid_gap": null,
      "grid_row": null,
      "grid_template_areas": null,
      "grid_template_columns": null,
      "grid_template_rows": null,
      "height": null,
      "justify_content": null,
      "justify_items": null,
      "left": null,
      "margin": null,
      "max_height": null,
      "max_width": null,
      "min_height": null,
      "min_width": null,
      "object_fit": null,
      "object_position": null,
      "order": null,
      "overflow": null,
      "overflow_x": null,
      "overflow_y": null,
      "padding": null,
      "right": null,
      "top": null,
      "visibility": null,
      "width": null
     }
    },
    "8e5519725ef846518b10d10d9516735b": {
     "model_module": "@jupyter-widgets/base",
     "model_module_version": "1.2.0",
     "model_name": "LayoutModel",
     "state": {
      "_model_module": "@jupyter-widgets/base",
      "_model_module_version": "1.2.0",
      "_model_name": "LayoutModel",
      "_view_count": null,
      "_view_module": "@jupyter-widgets/base",
      "_view_module_version": "1.2.0",
      "_view_name": "LayoutView",
      "align_content": null,
      "align_items": null,
      "align_self": null,
      "border": null,
      "bottom": null,
      "display": null,
      "flex": null,
      "flex_flow": null,
      "grid_area": null,
      "grid_auto_columns": null,
      "grid_auto_flow": null,
      "grid_auto_rows": null,
      "grid_column": null,
      "grid_gap": null,
      "grid_row": null,
      "grid_template_areas": null,
      "grid_template_columns": null,
      "grid_template_rows": null,
      "height": null,
      "justify_content": null,
      "justify_items": null,
      "left": null,
      "margin": null,
      "max_height": null,
      "max_width": null,
      "min_height": null,
      "min_width": null,
      "object_fit": null,
      "object_position": null,
      "order": null,
      "overflow": null,
      "overflow_x": null,
      "overflow_y": null,
      "padding": null,
      "right": null,
      "top": null,
      "visibility": null,
      "width": null
     }
    },
    "95e485b62b184bf195bcef1e3fc995b2": {
     "model_module": "@jupyter-widgets/controls",
     "model_module_version": "1.5.0",
     "model_name": "DescriptionStyleModel",
     "state": {
      "_model_module": "@jupyter-widgets/controls",
      "_model_module_version": "1.5.0",
      "_model_name": "DescriptionStyleModel",
      "_view_count": null,
      "_view_module": "@jupyter-widgets/base",
      "_view_module_version": "1.2.0",
      "_view_name": "StyleView",
      "description_width": ""
     }
    },
    "9b07eff284864d36863e8ceb2f55cc6a": {
     "model_module": "@jupyter-widgets/controls",
     "model_module_version": "1.5.0",
     "model_name": "DescriptionStyleModel",
     "state": {
      "_model_module": "@jupyter-widgets/controls",
      "_model_module_version": "1.5.0",
      "_model_name": "DescriptionStyleModel",
      "_view_count": null,
      "_view_module": "@jupyter-widgets/base",
      "_view_module_version": "1.2.0",
      "_view_name": "StyleView",
      "description_width": ""
     }
    },
    "a17a8804dcdf4e93ac57c901c646e425": {
     "model_module": "@jupyter-widgets/base",
     "model_module_version": "1.2.0",
     "model_name": "LayoutModel",
     "state": {
      "_model_module": "@jupyter-widgets/base",
      "_model_module_version": "1.2.0",
      "_model_name": "LayoutModel",
      "_view_count": null,
      "_view_module": "@jupyter-widgets/base",
      "_view_module_version": "1.2.0",
      "_view_name": "LayoutView",
      "align_content": null,
      "align_items": null,
      "align_self": null,
      "border": null,
      "bottom": null,
      "display": null,
      "flex": null,
      "flex_flow": null,
      "grid_area": null,
      "grid_auto_columns": null,
      "grid_auto_flow": null,
      "grid_auto_rows": null,
      "grid_column": null,
      "grid_gap": null,
      "grid_row": null,
      "grid_template_areas": null,
      "grid_template_columns": null,
      "grid_template_rows": null,
      "height": null,
      "justify_content": null,
      "justify_items": null,
      "left": null,
      "margin": null,
      "max_height": null,
      "max_width": null,
      "min_height": null,
      "min_width": null,
      "object_fit": null,
      "object_position": null,
      "order": null,
      "overflow": null,
      "overflow_x": null,
      "overflow_y": null,
      "padding": null,
      "right": null,
      "top": null,
      "visibility": null,
      "width": null
     }
    },
    "a220f41ce6474567bd526dafa4be8280": {
     "model_module": "@jupyter-widgets/base",
     "model_module_version": "1.2.0",
     "model_name": "LayoutModel",
     "state": {
      "_model_module": "@jupyter-widgets/base",
      "_model_module_version": "1.2.0",
      "_model_name": "LayoutModel",
      "_view_count": null,
      "_view_module": "@jupyter-widgets/base",
      "_view_module_version": "1.2.0",
      "_view_name": "LayoutView",
      "align_content": null,
      "align_items": null,
      "align_self": null,
      "border": null,
      "bottom": null,
      "display": null,
      "flex": null,
      "flex_flow": null,
      "grid_area": null,
      "grid_auto_columns": null,
      "grid_auto_flow": null,
      "grid_auto_rows": null,
      "grid_column": null,
      "grid_gap": null,
      "grid_row": null,
      "grid_template_areas": null,
      "grid_template_columns": null,
      "grid_template_rows": null,
      "height": null,
      "justify_content": null,
      "justify_items": null,
      "left": null,
      "margin": null,
      "max_height": null,
      "max_width": null,
      "min_height": null,
      "min_width": null,
      "object_fit": null,
      "object_position": null,
      "order": null,
      "overflow": null,
      "overflow_x": null,
      "overflow_y": null,
      "padding": null,
      "right": null,
      "top": null,
      "visibility": null,
      "width": null
     }
    },
    "a3e6ceb9a728457e92888968e20c023d": {
     "model_module": "@jupyter-widgets/base",
     "model_module_version": "1.2.0",
     "model_name": "LayoutModel",
     "state": {
      "_model_module": "@jupyter-widgets/base",
      "_model_module_version": "1.2.0",
      "_model_name": "LayoutModel",
      "_view_count": null,
      "_view_module": "@jupyter-widgets/base",
      "_view_module_version": "1.2.0",
      "_view_name": "LayoutView",
      "align_content": null,
      "align_items": null,
      "align_self": null,
      "border": null,
      "bottom": null,
      "display": null,
      "flex": null,
      "flex_flow": null,
      "grid_area": null,
      "grid_auto_columns": null,
      "grid_auto_flow": null,
      "grid_auto_rows": null,
      "grid_column": null,
      "grid_gap": null,
      "grid_row": null,
      "grid_template_areas": null,
      "grid_template_columns": null,
      "grid_template_rows": null,
      "height": null,
      "justify_content": null,
      "justify_items": null,
      "left": null,
      "margin": null,
      "max_height": null,
      "max_width": null,
      "min_height": null,
      "min_width": null,
      "object_fit": null,
      "object_position": null,
      "order": null,
      "overflow": null,
      "overflow_x": null,
      "overflow_y": null,
      "padding": null,
      "right": null,
      "top": null,
      "visibility": null,
      "width": null
     }
    },
    "a556329e98b748928109e2004b50d22d": {
     "model_module": "@jupyter-widgets/controls",
     "model_module_version": "1.5.0",
     "model_name": "HTMLModel",
     "state": {
      "_dom_classes": [],
      "_model_module": "@jupyter-widgets/controls",
      "_model_module_version": "1.5.0",
      "_model_name": "HTMLModel",
      "_view_count": null,
      "_view_module": "@jupyter-widgets/controls",
      "_view_module_version": "1.5.0",
      "_view_name": "HTMLView",
      "description": "",
      "description_tooltip": null,
      "layout": "IPY_MODEL_8dbc2428c9f14be2b84e99590406fcd5",
      "placeholder": "​",
      "style": "IPY_MODEL_12c2006933c8414885544eda72c885ae",
      "value": "model.safetensors: 100%"
     }
    },
    "a689b49a2e3242db8065e43dcd00bb75": {
     "model_module": "@jupyter-widgets/controls",
     "model_module_version": "1.5.0",
     "model_name": "ProgressStyleModel",
     "state": {
      "_model_module": "@jupyter-widgets/controls",
      "_model_module_version": "1.5.0",
      "_model_name": "ProgressStyleModel",
      "_view_count": null,
      "_view_module": "@jupyter-widgets/base",
      "_view_module_version": "1.2.0",
      "_view_name": "StyleView",
      "bar_color": null,
      "description_width": ""
     }
    },
    "a8b037782f5740bd8eb6f191cd0a9b83": {
     "model_module": "@jupyter-widgets/controls",
     "model_module_version": "1.5.0",
     "model_name": "DescriptionStyleModel",
     "state": {
      "_model_module": "@jupyter-widgets/controls",
      "_model_module_version": "1.5.0",
      "_model_name": "DescriptionStyleModel",
      "_view_count": null,
      "_view_module": "@jupyter-widgets/base",
      "_view_module_version": "1.2.0",
      "_view_name": "StyleView",
      "description_width": ""
     }
    },
    "abd120f3318c48f1917d2f90daa3bb87": {
     "model_module": "@jupyter-widgets/controls",
     "model_module_version": "1.5.0",
     "model_name": "DescriptionStyleModel",
     "state": {
      "_model_module": "@jupyter-widgets/controls",
      "_model_module_version": "1.5.0",
      "_model_name": "DescriptionStyleModel",
      "_view_count": null,
      "_view_module": "@jupyter-widgets/base",
      "_view_module_version": "1.2.0",
      "_view_name": "StyleView",
      "description_width": ""
     }
    },
    "b418b1674fd544618ef0ad80def4c37f": {
     "model_module": "@jupyter-widgets/controls",
     "model_module_version": "1.5.0",
     "model_name": "DescriptionStyleModel",
     "state": {
      "_model_module": "@jupyter-widgets/controls",
      "_model_module_version": "1.5.0",
      "_model_name": "DescriptionStyleModel",
      "_view_count": null,
      "_view_module": "@jupyter-widgets/base",
      "_view_module_version": "1.2.0",
      "_view_name": "StyleView",
      "description_width": ""
     }
    },
    "b98919f45a2644c5b1eb6e6033a727f6": {
     "model_module": "@jupyter-widgets/controls",
     "model_module_version": "1.5.0",
     "model_name": "ProgressStyleModel",
     "state": {
      "_model_module": "@jupyter-widgets/controls",
      "_model_module_version": "1.5.0",
      "_model_name": "ProgressStyleModel",
      "_view_count": null,
      "_view_module": "@jupyter-widgets/base",
      "_view_module_version": "1.2.0",
      "_view_name": "StyleView",
      "bar_color": null,
      "description_width": ""
     }
    },
    "c5f456359aac40249b2b18675c6b9861": {
     "model_module": "@jupyter-widgets/base",
     "model_module_version": "1.2.0",
     "model_name": "LayoutModel",
     "state": {
      "_model_module": "@jupyter-widgets/base",
      "_model_module_version": "1.2.0",
      "_model_name": "LayoutModel",
      "_view_count": null,
      "_view_module": "@jupyter-widgets/base",
      "_view_module_version": "1.2.0",
      "_view_name": "LayoutView",
      "align_content": null,
      "align_items": null,
      "align_self": null,
      "border": null,
      "bottom": null,
      "display": null,
      "flex": null,
      "flex_flow": null,
      "grid_area": null,
      "grid_auto_columns": null,
      "grid_auto_flow": null,
      "grid_auto_rows": null,
      "grid_column": null,
      "grid_gap": null,
      "grid_row": null,
      "grid_template_areas": null,
      "grid_template_columns": null,
      "grid_template_rows": null,
      "height": null,
      "justify_content": null,
      "justify_items": null,
      "left": null,
      "margin": null,
      "max_height": null,
      "max_width": null,
      "min_height": null,
      "min_width": null,
      "object_fit": null,
      "object_position": null,
      "order": null,
      "overflow": null,
      "overflow_x": null,
      "overflow_y": null,
      "padding": null,
      "right": null,
      "top": null,
      "visibility": null,
      "width": null
     }
    },
    "c747ef3585c0417f8c9e94c23add8219": {
     "model_module": "@jupyter-widgets/base",
     "model_module_version": "1.2.0",
     "model_name": "LayoutModel",
     "state": {
      "_model_module": "@jupyter-widgets/base",
      "_model_module_version": "1.2.0",
      "_model_name": "LayoutModel",
      "_view_count": null,
      "_view_module": "@jupyter-widgets/base",
      "_view_module_version": "1.2.0",
      "_view_name": "LayoutView",
      "align_content": null,
      "align_items": null,
      "align_self": null,
      "border": null,
      "bottom": null,
      "display": null,
      "flex": null,
      "flex_flow": null,
      "grid_area": null,
      "grid_auto_columns": null,
      "grid_auto_flow": null,
      "grid_auto_rows": null,
      "grid_column": null,
      "grid_gap": null,
      "grid_row": null,
      "grid_template_areas": null,
      "grid_template_columns": null,
      "grid_template_rows": null,
      "height": null,
      "justify_content": null,
      "justify_items": null,
      "left": null,
      "margin": null,
      "max_height": null,
      "max_width": null,
      "min_height": null,
      "min_width": null,
      "object_fit": null,
      "object_position": null,
      "order": null,
      "overflow": null,
      "overflow_x": null,
      "overflow_y": null,
      "padding": null,
      "right": null,
      "top": null,
      "visibility": null,
      "width": null
     }
    },
    "ccd3ab8d2d1f44808d7fa1edb24ea33e": {
     "model_module": "@jupyter-widgets/controls",
     "model_module_version": "1.5.0",
     "model_name": "HBoxModel",
     "state": {
      "_dom_classes": [],
      "_model_module": "@jupyter-widgets/controls",
      "_model_module_version": "1.5.0",
      "_model_name": "HBoxModel",
      "_view_count": null,
      "_view_module": "@jupyter-widgets/controls",
      "_view_module_version": "1.5.0",
      "_view_name": "HBoxView",
      "box_style": "",
      "children": [
       "IPY_MODEL_3cdff056f1e34d72babda84595733709",
       "IPY_MODEL_1242cc45275347da8a470627467d8b3c",
       "IPY_MODEL_56dd009e4e6344dbb0ba05b31c13c13d"
      ],
      "layout": "IPY_MODEL_a17a8804dcdf4e93ac57c901c646e425"
     }
    },
    "cda6a779c9104109bcfa9f3f8efd2a88": {
     "model_module": "@jupyter-widgets/controls",
     "model_module_version": "1.5.0",
     "model_name": "DescriptionStyleModel",
     "state": {
      "_model_module": "@jupyter-widgets/controls",
      "_model_module_version": "1.5.0",
      "_model_name": "DescriptionStyleModel",
      "_view_count": null,
      "_view_module": "@jupyter-widgets/base",
      "_view_module_version": "1.2.0",
      "_view_name": "StyleView",
      "description_width": ""
     }
    },
    "d0016e44cf0f45f5be21509590bb3734": {
     "model_module": "@jupyter-widgets/base",
     "model_module_version": "1.2.0",
     "model_name": "LayoutModel",
     "state": {
      "_model_module": "@jupyter-widgets/base",
      "_model_module_version": "1.2.0",
      "_model_name": "LayoutModel",
      "_view_count": null,
      "_view_module": "@jupyter-widgets/base",
      "_view_module_version": "1.2.0",
      "_view_name": "LayoutView",
      "align_content": null,
      "align_items": null,
      "align_self": null,
      "border": null,
      "bottom": null,
      "display": null,
      "flex": null,
      "flex_flow": null,
      "grid_area": null,
      "grid_auto_columns": null,
      "grid_auto_flow": null,
      "grid_auto_rows": null,
      "grid_column": null,
      "grid_gap": null,
      "grid_row": null,
      "grid_template_areas": null,
      "grid_template_columns": null,
      "grid_template_rows": null,
      "height": null,
      "justify_content": null,
      "justify_items": null,
      "left": null,
      "margin": null,
      "max_height": null,
      "max_width": null,
      "min_height": null,
      "min_width": null,
      "object_fit": null,
      "object_position": null,
      "order": null,
      "overflow": null,
      "overflow_x": null,
      "overflow_y": null,
      "padding": null,
      "right": null,
      "top": null,
      "visibility": null,
      "width": null
     }
    },
    "da4218dce68540288b76c6518e874303": {
     "model_module": "@jupyter-widgets/controls",
     "model_module_version": "1.5.0",
     "model_name": "HTMLModel",
     "state": {
      "_dom_classes": [],
      "_model_module": "@jupyter-widgets/controls",
      "_model_module_version": "1.5.0",
      "_model_name": "HTMLModel",
      "_view_count": null,
      "_view_module": "@jupyter-widgets/controls",
      "_view_module_version": "1.5.0",
      "_view_name": "HTMLView",
      "description": "",
      "description_tooltip": null,
      "layout": "IPY_MODEL_29863f98c47644f1ad9ce2f471797ea7",
      "placeholder": "​",
      "style": "IPY_MODEL_3e3ae33c1f634f119bffd46ea0f2f460",
      "value": "config.json: 100%"
     }
    },
    "e92cf6868fc64775933497f1b75fc2e8": {
     "model_module": "@jupyter-widgets/controls",
     "model_module_version": "1.5.0",
     "model_name": "DescriptionStyleModel",
     "state": {
      "_model_module": "@jupyter-widgets/controls",
      "_model_module_version": "1.5.0",
      "_model_name": "DescriptionStyleModel",
      "_view_count": null,
      "_view_module": "@jupyter-widgets/base",
      "_view_module_version": "1.2.0",
      "_view_name": "StyleView",
      "description_width": ""
     }
    },
    "eedaf73a8669406480f3c33676046721": {
     "model_module": "@jupyter-widgets/base",
     "model_module_version": "1.2.0",
     "model_name": "LayoutModel",
     "state": {
      "_model_module": "@jupyter-widgets/base",
      "_model_module_version": "1.2.0",
      "_model_name": "LayoutModel",
      "_view_count": null,
      "_view_module": "@jupyter-widgets/base",
      "_view_module_version": "1.2.0",
      "_view_name": "LayoutView",
      "align_content": null,
      "align_items": null,
      "align_self": null,
      "border": null,
      "bottom": null,
      "display": null,
      "flex": null,
      "flex_flow": null,
      "grid_area": null,
      "grid_auto_columns": null,
      "grid_auto_flow": null,
      "grid_auto_rows": null,
      "grid_column": null,
      "grid_gap": null,
      "grid_row": null,
      "grid_template_areas": null,
      "grid_template_columns": null,
      "grid_template_rows": null,
      "height": null,
      "justify_content": null,
      "justify_items": null,
      "left": null,
      "margin": null,
      "max_height": null,
      "max_width": null,
      "min_height": null,
      "min_width": null,
      "object_fit": null,
      "object_position": null,
      "order": null,
      "overflow": null,
      "overflow_x": null,
      "overflow_y": null,
      "padding": null,
      "right": null,
      "top": null,
      "visibility": null,
      "width": null
     }
    },
    "f2b80c6056fd4c34b8eabbeb9ccaeace": {
     "model_module": "@jupyter-widgets/controls",
     "model_module_version": "1.5.0",
     "model_name": "FloatProgressModel",
     "state": {
      "_dom_classes": [],
      "_model_module": "@jupyter-widgets/controls",
      "_model_module_version": "1.5.0",
      "_model_name": "FloatProgressModel",
      "_view_count": null,
      "_view_module": "@jupyter-widgets/controls",
      "_view_module_version": "1.5.0",
      "_view_name": "ProgressView",
      "bar_style": "success",
      "description": "",
      "description_tooltip": null,
      "layout": "IPY_MODEL_3e03b97033a34826805be6ed12cccb84",
      "max": 156,
      "min": 0,
      "orientation": "horizontal",
      "style": "IPY_MODEL_a689b49a2e3242db8065e43dcd00bb75",
      "value": 156
     }
    }
   }
  }
 },
 "nbformat": 4,
 "nbformat_minor": 5
}
